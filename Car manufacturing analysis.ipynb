{
 "cells": [
  {
   "cell_type": "code",
   "execution_count": 71,
   "metadata": {},
   "outputs": [],
   "source": [
    "import pandas as pd\n",
    "import matplotlib.pyplot as plt"
   ]
  },
  {
   "cell_type": "code",
   "execution_count": 3,
   "metadata": {},
   "outputs": [],
   "source": [
    "df=pd.read_csv('USA_cars_datasets.csv')"
   ]
  },
  {
   "cell_type": "code",
   "execution_count": 4,
   "metadata": {},
   "outputs": [
    {
     "data": {
      "text/html": [
       "<div>\n",
       "<style scoped>\n",
       "    .dataframe tbody tr th:only-of-type {\n",
       "        vertical-align: middle;\n",
       "    }\n",
       "\n",
       "    .dataframe tbody tr th {\n",
       "        vertical-align: top;\n",
       "    }\n",
       "\n",
       "    .dataframe thead th {\n",
       "        text-align: right;\n",
       "    }\n",
       "</style>\n",
       "<table border=\"1\" class=\"dataframe\">\n",
       "  <thead>\n",
       "    <tr style=\"text-align: right;\">\n",
       "      <th></th>\n",
       "      <th>Unnamed: 0</th>\n",
       "      <th>price</th>\n",
       "      <th>brand</th>\n",
       "      <th>model</th>\n",
       "      <th>year</th>\n",
       "      <th>title_status</th>\n",
       "      <th>mileage</th>\n",
       "      <th>color</th>\n",
       "      <th>vin</th>\n",
       "      <th>lot</th>\n",
       "      <th>state</th>\n",
       "      <th>country</th>\n",
       "      <th>condition</th>\n",
       "    </tr>\n",
       "  </thead>\n",
       "  <tbody>\n",
       "    <tr>\n",
       "      <th>0</th>\n",
       "      <td>0</td>\n",
       "      <td>6300</td>\n",
       "      <td>toyota</td>\n",
       "      <td>cruiser</td>\n",
       "      <td>2008</td>\n",
       "      <td>clean vehicle</td>\n",
       "      <td>274117.0</td>\n",
       "      <td>black</td>\n",
       "      <td>jtezu11f88k007763</td>\n",
       "      <td>159348797</td>\n",
       "      <td>new jersey</td>\n",
       "      <td>usa</td>\n",
       "      <td>10 days left</td>\n",
       "    </tr>\n",
       "    <tr>\n",
       "      <th>1</th>\n",
       "      <td>1</td>\n",
       "      <td>2899</td>\n",
       "      <td>ford</td>\n",
       "      <td>se</td>\n",
       "      <td>2011</td>\n",
       "      <td>clean vehicle</td>\n",
       "      <td>190552.0</td>\n",
       "      <td>silver</td>\n",
       "      <td>2fmdk3gc4bbb02217</td>\n",
       "      <td>166951262</td>\n",
       "      <td>tennessee</td>\n",
       "      <td>usa</td>\n",
       "      <td>6 days left</td>\n",
       "    </tr>\n",
       "    <tr>\n",
       "      <th>2</th>\n",
       "      <td>2</td>\n",
       "      <td>5350</td>\n",
       "      <td>dodge</td>\n",
       "      <td>mpv</td>\n",
       "      <td>2018</td>\n",
       "      <td>clean vehicle</td>\n",
       "      <td>39590.0</td>\n",
       "      <td>silver</td>\n",
       "      <td>3c4pdcgg5jt346413</td>\n",
       "      <td>167655728</td>\n",
       "      <td>georgia</td>\n",
       "      <td>usa</td>\n",
       "      <td>2 days left</td>\n",
       "    </tr>\n",
       "    <tr>\n",
       "      <th>3</th>\n",
       "      <td>3</td>\n",
       "      <td>25000</td>\n",
       "      <td>ford</td>\n",
       "      <td>door</td>\n",
       "      <td>2014</td>\n",
       "      <td>clean vehicle</td>\n",
       "      <td>64146.0</td>\n",
       "      <td>blue</td>\n",
       "      <td>1ftfw1et4efc23745</td>\n",
       "      <td>167753855</td>\n",
       "      <td>virginia</td>\n",
       "      <td>usa</td>\n",
       "      <td>22 hours left</td>\n",
       "    </tr>\n",
       "    <tr>\n",
       "      <th>4</th>\n",
       "      <td>4</td>\n",
       "      <td>27700</td>\n",
       "      <td>chevrolet</td>\n",
       "      <td>1500</td>\n",
       "      <td>2018</td>\n",
       "      <td>clean vehicle</td>\n",
       "      <td>6654.0</td>\n",
       "      <td>red</td>\n",
       "      <td>3gcpcrec2jg473991</td>\n",
       "      <td>167763266</td>\n",
       "      <td>florida</td>\n",
       "      <td>usa</td>\n",
       "      <td>22 hours left</td>\n",
       "    </tr>\n",
       "    <tr>\n",
       "      <th>...</th>\n",
       "      <td>...</td>\n",
       "      <td>...</td>\n",
       "      <td>...</td>\n",
       "      <td>...</td>\n",
       "      <td>...</td>\n",
       "      <td>...</td>\n",
       "      <td>...</td>\n",
       "      <td>...</td>\n",
       "      <td>...</td>\n",
       "      <td>...</td>\n",
       "      <td>...</td>\n",
       "      <td>...</td>\n",
       "      <td>...</td>\n",
       "    </tr>\n",
       "    <tr>\n",
       "      <th>2494</th>\n",
       "      <td>2494</td>\n",
       "      <td>7800</td>\n",
       "      <td>nissan</td>\n",
       "      <td>versa</td>\n",
       "      <td>2019</td>\n",
       "      <td>clean vehicle</td>\n",
       "      <td>23609.0</td>\n",
       "      <td>red</td>\n",
       "      <td>3n1cn7ap9kl880319</td>\n",
       "      <td>167722715</td>\n",
       "      <td>california</td>\n",
       "      <td>usa</td>\n",
       "      <td>1 days left</td>\n",
       "    </tr>\n",
       "    <tr>\n",
       "      <th>2495</th>\n",
       "      <td>2495</td>\n",
       "      <td>9200</td>\n",
       "      <td>nissan</td>\n",
       "      <td>versa</td>\n",
       "      <td>2018</td>\n",
       "      <td>clean vehicle</td>\n",
       "      <td>34553.0</td>\n",
       "      <td>silver</td>\n",
       "      <td>3n1cn7ap5jl884088</td>\n",
       "      <td>167762225</td>\n",
       "      <td>florida</td>\n",
       "      <td>usa</td>\n",
       "      <td>21 hours left</td>\n",
       "    </tr>\n",
       "    <tr>\n",
       "      <th>2496</th>\n",
       "      <td>2496</td>\n",
       "      <td>9200</td>\n",
       "      <td>nissan</td>\n",
       "      <td>versa</td>\n",
       "      <td>2018</td>\n",
       "      <td>clean vehicle</td>\n",
       "      <td>31594.0</td>\n",
       "      <td>silver</td>\n",
       "      <td>3n1cn7ap9jl884191</td>\n",
       "      <td>167762226</td>\n",
       "      <td>florida</td>\n",
       "      <td>usa</td>\n",
       "      <td>21 hours left</td>\n",
       "    </tr>\n",
       "    <tr>\n",
       "      <th>2497</th>\n",
       "      <td>2497</td>\n",
       "      <td>9200</td>\n",
       "      <td>nissan</td>\n",
       "      <td>versa</td>\n",
       "      <td>2018</td>\n",
       "      <td>clean vehicle</td>\n",
       "      <td>32557.0</td>\n",
       "      <td>black</td>\n",
       "      <td>3n1cn7ap3jl883263</td>\n",
       "      <td>167762227</td>\n",
       "      <td>florida</td>\n",
       "      <td>usa</td>\n",
       "      <td>2 days left</td>\n",
       "    </tr>\n",
       "    <tr>\n",
       "      <th>2498</th>\n",
       "      <td>2498</td>\n",
       "      <td>9200</td>\n",
       "      <td>nissan</td>\n",
       "      <td>versa</td>\n",
       "      <td>2018</td>\n",
       "      <td>clean vehicle</td>\n",
       "      <td>31371.0</td>\n",
       "      <td>silver</td>\n",
       "      <td>3n1cn7ap4jl884311</td>\n",
       "      <td>167762228</td>\n",
       "      <td>florida</td>\n",
       "      <td>usa</td>\n",
       "      <td>21 hours left</td>\n",
       "    </tr>\n",
       "  </tbody>\n",
       "</table>\n",
       "<p>2499 rows × 13 columns</p>\n",
       "</div>"
      ],
      "text/plain": [
       "      Unnamed: 0  price      brand    model  year   title_status   mileage  \\\n",
       "0              0   6300     toyota  cruiser  2008  clean vehicle  274117.0   \n",
       "1              1   2899       ford       se  2011  clean vehicle  190552.0   \n",
       "2              2   5350      dodge      mpv  2018  clean vehicle   39590.0   \n",
       "3              3  25000       ford     door  2014  clean vehicle   64146.0   \n",
       "4              4  27700  chevrolet     1500  2018  clean vehicle    6654.0   \n",
       "...          ...    ...        ...      ...   ...            ...       ...   \n",
       "2494        2494   7800     nissan    versa  2019  clean vehicle   23609.0   \n",
       "2495        2495   9200     nissan    versa  2018  clean vehicle   34553.0   \n",
       "2496        2496   9200     nissan    versa  2018  clean vehicle   31594.0   \n",
       "2497        2497   9200     nissan    versa  2018  clean vehicle   32557.0   \n",
       "2498        2498   9200     nissan    versa  2018  clean vehicle   31371.0   \n",
       "\n",
       "       color                  vin        lot       state country  \\\n",
       "0      black    jtezu11f88k007763  159348797  new jersey     usa   \n",
       "1     silver    2fmdk3gc4bbb02217  166951262   tennessee     usa   \n",
       "2     silver    3c4pdcgg5jt346413  167655728     georgia     usa   \n",
       "3       blue    1ftfw1et4efc23745  167753855    virginia     usa   \n",
       "4        red    3gcpcrec2jg473991  167763266     florida     usa   \n",
       "...      ...                  ...        ...         ...     ...   \n",
       "2494     red    3n1cn7ap9kl880319  167722715  california     usa   \n",
       "2495  silver    3n1cn7ap5jl884088  167762225     florida     usa   \n",
       "2496  silver    3n1cn7ap9jl884191  167762226     florida     usa   \n",
       "2497   black    3n1cn7ap3jl883263  167762227     florida     usa   \n",
       "2498  silver    3n1cn7ap4jl884311  167762228     florida     usa   \n",
       "\n",
       "          condition  \n",
       "0      10 days left  \n",
       "1       6 days left  \n",
       "2       2 days left  \n",
       "3     22 hours left  \n",
       "4     22 hours left  \n",
       "...             ...  \n",
       "2494    1 days left  \n",
       "2495  21 hours left  \n",
       "2496  21 hours left  \n",
       "2497    2 days left  \n",
       "2498  21 hours left  \n",
       "\n",
       "[2499 rows x 13 columns]"
      ]
     },
     "execution_count": 4,
     "metadata": {},
     "output_type": "execute_result"
    }
   ],
   "source": [
    "df"
   ]
  },
  {
   "cell_type": "code",
   "execution_count": 5,
   "metadata": {},
   "outputs": [
    {
     "data": {
      "text/plain": [
       "pandas.core.frame.DataFrame"
      ]
     },
     "execution_count": 5,
     "metadata": {},
     "output_type": "execute_result"
    }
   ],
   "source": [
    "type(df)"
   ]
  },
  {
   "cell_type": "code",
   "execution_count": 6,
   "metadata": {},
   "outputs": [
    {
     "data": {
      "text/html": [
       "<div>\n",
       "<style scoped>\n",
       "    .dataframe tbody tr th:only-of-type {\n",
       "        vertical-align: middle;\n",
       "    }\n",
       "\n",
       "    .dataframe tbody tr th {\n",
       "        vertical-align: top;\n",
       "    }\n",
       "\n",
       "    .dataframe thead th {\n",
       "        text-align: right;\n",
       "    }\n",
       "</style>\n",
       "<table border=\"1\" class=\"dataframe\">\n",
       "  <thead>\n",
       "    <tr style=\"text-align: right;\">\n",
       "      <th></th>\n",
       "      <th>Unnamed: 0</th>\n",
       "      <th>price</th>\n",
       "      <th>brand</th>\n",
       "      <th>model</th>\n",
       "      <th>year</th>\n",
       "      <th>title_status</th>\n",
       "      <th>mileage</th>\n",
       "      <th>color</th>\n",
       "      <th>vin</th>\n",
       "      <th>lot</th>\n",
       "      <th>state</th>\n",
       "      <th>country</th>\n",
       "      <th>condition</th>\n",
       "    </tr>\n",
       "  </thead>\n",
       "  <tbody>\n",
       "    <tr>\n",
       "      <th>0</th>\n",
       "      <td>0</td>\n",
       "      <td>6300</td>\n",
       "      <td>toyota</td>\n",
       "      <td>cruiser</td>\n",
       "      <td>2008</td>\n",
       "      <td>clean vehicle</td>\n",
       "      <td>274117.0</td>\n",
       "      <td>black</td>\n",
       "      <td>jtezu11f88k007763</td>\n",
       "      <td>159348797</td>\n",
       "      <td>new jersey</td>\n",
       "      <td>usa</td>\n",
       "      <td>10 days left</td>\n",
       "    </tr>\n",
       "    <tr>\n",
       "      <th>1</th>\n",
       "      <td>1</td>\n",
       "      <td>2899</td>\n",
       "      <td>ford</td>\n",
       "      <td>se</td>\n",
       "      <td>2011</td>\n",
       "      <td>clean vehicle</td>\n",
       "      <td>190552.0</td>\n",
       "      <td>silver</td>\n",
       "      <td>2fmdk3gc4bbb02217</td>\n",
       "      <td>166951262</td>\n",
       "      <td>tennessee</td>\n",
       "      <td>usa</td>\n",
       "      <td>6 days left</td>\n",
       "    </tr>\n",
       "    <tr>\n",
       "      <th>2</th>\n",
       "      <td>2</td>\n",
       "      <td>5350</td>\n",
       "      <td>dodge</td>\n",
       "      <td>mpv</td>\n",
       "      <td>2018</td>\n",
       "      <td>clean vehicle</td>\n",
       "      <td>39590.0</td>\n",
       "      <td>silver</td>\n",
       "      <td>3c4pdcgg5jt346413</td>\n",
       "      <td>167655728</td>\n",
       "      <td>georgia</td>\n",
       "      <td>usa</td>\n",
       "      <td>2 days left</td>\n",
       "    </tr>\n",
       "    <tr>\n",
       "      <th>3</th>\n",
       "      <td>3</td>\n",
       "      <td>25000</td>\n",
       "      <td>ford</td>\n",
       "      <td>door</td>\n",
       "      <td>2014</td>\n",
       "      <td>clean vehicle</td>\n",
       "      <td>64146.0</td>\n",
       "      <td>blue</td>\n",
       "      <td>1ftfw1et4efc23745</td>\n",
       "      <td>167753855</td>\n",
       "      <td>virginia</td>\n",
       "      <td>usa</td>\n",
       "      <td>22 hours left</td>\n",
       "    </tr>\n",
       "    <tr>\n",
       "      <th>4</th>\n",
       "      <td>4</td>\n",
       "      <td>27700</td>\n",
       "      <td>chevrolet</td>\n",
       "      <td>1500</td>\n",
       "      <td>2018</td>\n",
       "      <td>clean vehicle</td>\n",
       "      <td>6654.0</td>\n",
       "      <td>red</td>\n",
       "      <td>3gcpcrec2jg473991</td>\n",
       "      <td>167763266</td>\n",
       "      <td>florida</td>\n",
       "      <td>usa</td>\n",
       "      <td>22 hours left</td>\n",
       "    </tr>\n",
       "  </tbody>\n",
       "</table>\n",
       "</div>"
      ],
      "text/plain": [
       "   Unnamed: 0  price      brand    model  year   title_status   mileage  \\\n",
       "0           0   6300     toyota  cruiser  2008  clean vehicle  274117.0   \n",
       "1           1   2899       ford       se  2011  clean vehicle  190552.0   \n",
       "2           2   5350      dodge      mpv  2018  clean vehicle   39590.0   \n",
       "3           3  25000       ford     door  2014  clean vehicle   64146.0   \n",
       "4           4  27700  chevrolet     1500  2018  clean vehicle    6654.0   \n",
       "\n",
       "    color                  vin        lot       state country      condition  \n",
       "0   black    jtezu11f88k007763  159348797  new jersey     usa   10 days left  \n",
       "1  silver    2fmdk3gc4bbb02217  166951262   tennessee     usa    6 days left  \n",
       "2  silver    3c4pdcgg5jt346413  167655728     georgia     usa    2 days left  \n",
       "3    blue    1ftfw1et4efc23745  167753855    virginia     usa  22 hours left  \n",
       "4     red    3gcpcrec2jg473991  167763266     florida     usa  22 hours left  "
      ]
     },
     "execution_count": 6,
     "metadata": {},
     "output_type": "execute_result"
    }
   ],
   "source": [
    "df.head()"
   ]
  },
  {
   "cell_type": "code",
   "execution_count": 7,
   "metadata": {},
   "outputs": [
    {
     "data": {
      "text/html": [
       "<div>\n",
       "<style scoped>\n",
       "    .dataframe tbody tr th:only-of-type {\n",
       "        vertical-align: middle;\n",
       "    }\n",
       "\n",
       "    .dataframe tbody tr th {\n",
       "        vertical-align: top;\n",
       "    }\n",
       "\n",
       "    .dataframe thead th {\n",
       "        text-align: right;\n",
       "    }\n",
       "</style>\n",
       "<table border=\"1\" class=\"dataframe\">\n",
       "  <thead>\n",
       "    <tr style=\"text-align: right;\">\n",
       "      <th></th>\n",
       "      <th>Unnamed: 0</th>\n",
       "      <th>price</th>\n",
       "      <th>brand</th>\n",
       "      <th>model</th>\n",
       "      <th>year</th>\n",
       "      <th>title_status</th>\n",
       "      <th>mileage</th>\n",
       "      <th>color</th>\n",
       "      <th>vin</th>\n",
       "      <th>lot</th>\n",
       "      <th>state</th>\n",
       "      <th>country</th>\n",
       "      <th>condition</th>\n",
       "    </tr>\n",
       "  </thead>\n",
       "  <tbody>\n",
       "    <tr>\n",
       "      <th>0</th>\n",
       "      <td>0</td>\n",
       "      <td>6300</td>\n",
       "      <td>toyota</td>\n",
       "      <td>cruiser</td>\n",
       "      <td>2008</td>\n",
       "      <td>clean vehicle</td>\n",
       "      <td>274117.0</td>\n",
       "      <td>black</td>\n",
       "      <td>jtezu11f88k007763</td>\n",
       "      <td>159348797</td>\n",
       "      <td>new jersey</td>\n",
       "      <td>usa</td>\n",
       "      <td>10 days left</td>\n",
       "    </tr>\n",
       "  </tbody>\n",
       "</table>\n",
       "</div>"
      ],
      "text/plain": [
       "   Unnamed: 0  price   brand    model  year   title_status   mileage  color  \\\n",
       "0           0   6300  toyota  cruiser  2008  clean vehicle  274117.0  black   \n",
       "\n",
       "                   vin        lot       state country     condition  \n",
       "0    jtezu11f88k007763  159348797  new jersey     usa  10 days left  "
      ]
     },
     "execution_count": 7,
     "metadata": {},
     "output_type": "execute_result"
    }
   ],
   "source": [
    "df.head(1)"
   ]
  },
  {
   "cell_type": "code",
   "execution_count": 8,
   "metadata": {},
   "outputs": [
    {
     "data": {
      "text/html": [
       "<div>\n",
       "<style scoped>\n",
       "    .dataframe tbody tr th:only-of-type {\n",
       "        vertical-align: middle;\n",
       "    }\n",
       "\n",
       "    .dataframe tbody tr th {\n",
       "        vertical-align: top;\n",
       "    }\n",
       "\n",
       "    .dataframe thead th {\n",
       "        text-align: right;\n",
       "    }\n",
       "</style>\n",
       "<table border=\"1\" class=\"dataframe\">\n",
       "  <thead>\n",
       "    <tr style=\"text-align: right;\">\n",
       "      <th></th>\n",
       "      <th>Unnamed: 0</th>\n",
       "      <th>price</th>\n",
       "      <th>brand</th>\n",
       "      <th>model</th>\n",
       "      <th>year</th>\n",
       "      <th>title_status</th>\n",
       "      <th>mileage</th>\n",
       "      <th>color</th>\n",
       "      <th>vin</th>\n",
       "      <th>lot</th>\n",
       "      <th>state</th>\n",
       "      <th>country</th>\n",
       "      <th>condition</th>\n",
       "    </tr>\n",
       "  </thead>\n",
       "  <tbody>\n",
       "    <tr>\n",
       "      <th>0</th>\n",
       "      <td>0</td>\n",
       "      <td>6300</td>\n",
       "      <td>toyota</td>\n",
       "      <td>cruiser</td>\n",
       "      <td>2008</td>\n",
       "      <td>clean vehicle</td>\n",
       "      <td>274117.0</td>\n",
       "      <td>black</td>\n",
       "      <td>jtezu11f88k007763</td>\n",
       "      <td>159348797</td>\n",
       "      <td>new jersey</td>\n",
       "      <td>usa</td>\n",
       "      <td>10 days left</td>\n",
       "    </tr>\n",
       "    <tr>\n",
       "      <th>1</th>\n",
       "      <td>1</td>\n",
       "      <td>2899</td>\n",
       "      <td>ford</td>\n",
       "      <td>se</td>\n",
       "      <td>2011</td>\n",
       "      <td>clean vehicle</td>\n",
       "      <td>190552.0</td>\n",
       "      <td>silver</td>\n",
       "      <td>2fmdk3gc4bbb02217</td>\n",
       "      <td>166951262</td>\n",
       "      <td>tennessee</td>\n",
       "      <td>usa</td>\n",
       "      <td>6 days left</td>\n",
       "    </tr>\n",
       "    <tr>\n",
       "      <th>2</th>\n",
       "      <td>2</td>\n",
       "      <td>5350</td>\n",
       "      <td>dodge</td>\n",
       "      <td>mpv</td>\n",
       "      <td>2018</td>\n",
       "      <td>clean vehicle</td>\n",
       "      <td>39590.0</td>\n",
       "      <td>silver</td>\n",
       "      <td>3c4pdcgg5jt346413</td>\n",
       "      <td>167655728</td>\n",
       "      <td>georgia</td>\n",
       "      <td>usa</td>\n",
       "      <td>2 days left</td>\n",
       "    </tr>\n",
       "  </tbody>\n",
       "</table>\n",
       "</div>"
      ],
      "text/plain": [
       "   Unnamed: 0  price   brand    model  year   title_status   mileage   color  \\\n",
       "0           0   6300  toyota  cruiser  2008  clean vehicle  274117.0   black   \n",
       "1           1   2899    ford       se  2011  clean vehicle  190552.0  silver   \n",
       "2           2   5350   dodge      mpv  2018  clean vehicle   39590.0  silver   \n",
       "\n",
       "                   vin        lot       state country     condition  \n",
       "0    jtezu11f88k007763  159348797  new jersey     usa  10 days left  \n",
       "1    2fmdk3gc4bbb02217  166951262   tennessee     usa   6 days left  \n",
       "2    3c4pdcgg5jt346413  167655728     georgia     usa   2 days left  "
      ]
     },
     "execution_count": 8,
     "metadata": {},
     "output_type": "execute_result"
    }
   ],
   "source": [
    "df.head(3)"
   ]
  },
  {
   "cell_type": "code",
   "execution_count": 9,
   "metadata": {},
   "outputs": [
    {
     "data": {
      "text/plain": [
       "0        6300\n",
       "1        2899\n",
       "2        5350\n",
       "3       25000\n",
       "4       27700\n",
       "        ...  \n",
       "2494     7800\n",
       "2495     9200\n",
       "2496     9200\n",
       "2497     9200\n",
       "2498     9200\n",
       "Name: price, Length: 2499, dtype: int64"
      ]
     },
     "execution_count": 9,
     "metadata": {},
     "output_type": "execute_result"
    }
   ],
   "source": [
    "df['price']"
   ]
  },
  {
   "cell_type": "code",
   "execution_count": 10,
   "metadata": {},
   "outputs": [
    {
     "data": {
      "text/html": [
       "<div>\n",
       "<style scoped>\n",
       "    .dataframe tbody tr th:only-of-type {\n",
       "        vertical-align: middle;\n",
       "    }\n",
       "\n",
       "    .dataframe tbody tr th {\n",
       "        vertical-align: top;\n",
       "    }\n",
       "\n",
       "    .dataframe thead th {\n",
       "        text-align: right;\n",
       "    }\n",
       "</style>\n",
       "<table border=\"1\" class=\"dataframe\">\n",
       "  <thead>\n",
       "    <tr style=\"text-align: right;\">\n",
       "      <th></th>\n",
       "      <th>Unnamed: 0</th>\n",
       "      <th>price</th>\n",
       "      <th>brand</th>\n",
       "      <th>model</th>\n",
       "      <th>year</th>\n",
       "      <th>title_status</th>\n",
       "      <th>mileage</th>\n",
       "      <th>color</th>\n",
       "      <th>vin</th>\n",
       "      <th>lot</th>\n",
       "      <th>state</th>\n",
       "      <th>country</th>\n",
       "      <th>condition</th>\n",
       "    </tr>\n",
       "  </thead>\n",
       "  <tbody>\n",
       "    <tr>\n",
       "      <th>0</th>\n",
       "      <td>False</td>\n",
       "      <td>False</td>\n",
       "      <td>False</td>\n",
       "      <td>False</td>\n",
       "      <td>False</td>\n",
       "      <td>False</td>\n",
       "      <td>False</td>\n",
       "      <td>False</td>\n",
       "      <td>False</td>\n",
       "      <td>False</td>\n",
       "      <td>False</td>\n",
       "      <td>False</td>\n",
       "      <td>False</td>\n",
       "    </tr>\n",
       "    <tr>\n",
       "      <th>1</th>\n",
       "      <td>False</td>\n",
       "      <td>False</td>\n",
       "      <td>False</td>\n",
       "      <td>False</td>\n",
       "      <td>False</td>\n",
       "      <td>False</td>\n",
       "      <td>False</td>\n",
       "      <td>False</td>\n",
       "      <td>False</td>\n",
       "      <td>False</td>\n",
       "      <td>False</td>\n",
       "      <td>False</td>\n",
       "      <td>False</td>\n",
       "    </tr>\n",
       "    <tr>\n",
       "      <th>2</th>\n",
       "      <td>False</td>\n",
       "      <td>False</td>\n",
       "      <td>False</td>\n",
       "      <td>False</td>\n",
       "      <td>False</td>\n",
       "      <td>False</td>\n",
       "      <td>False</td>\n",
       "      <td>False</td>\n",
       "      <td>False</td>\n",
       "      <td>False</td>\n",
       "      <td>False</td>\n",
       "      <td>False</td>\n",
       "      <td>False</td>\n",
       "    </tr>\n",
       "    <tr>\n",
       "      <th>3</th>\n",
       "      <td>False</td>\n",
       "      <td>False</td>\n",
       "      <td>False</td>\n",
       "      <td>False</td>\n",
       "      <td>False</td>\n",
       "      <td>False</td>\n",
       "      <td>False</td>\n",
       "      <td>False</td>\n",
       "      <td>False</td>\n",
       "      <td>False</td>\n",
       "      <td>False</td>\n",
       "      <td>False</td>\n",
       "      <td>False</td>\n",
       "    </tr>\n",
       "    <tr>\n",
       "      <th>4</th>\n",
       "      <td>False</td>\n",
       "      <td>False</td>\n",
       "      <td>False</td>\n",
       "      <td>False</td>\n",
       "      <td>False</td>\n",
       "      <td>False</td>\n",
       "      <td>False</td>\n",
       "      <td>False</td>\n",
       "      <td>False</td>\n",
       "      <td>False</td>\n",
       "      <td>False</td>\n",
       "      <td>False</td>\n",
       "      <td>False</td>\n",
       "    </tr>\n",
       "    <tr>\n",
       "      <th>...</th>\n",
       "      <td>...</td>\n",
       "      <td>...</td>\n",
       "      <td>...</td>\n",
       "      <td>...</td>\n",
       "      <td>...</td>\n",
       "      <td>...</td>\n",
       "      <td>...</td>\n",
       "      <td>...</td>\n",
       "      <td>...</td>\n",
       "      <td>...</td>\n",
       "      <td>...</td>\n",
       "      <td>...</td>\n",
       "      <td>...</td>\n",
       "    </tr>\n",
       "    <tr>\n",
       "      <th>2494</th>\n",
       "      <td>False</td>\n",
       "      <td>False</td>\n",
       "      <td>False</td>\n",
       "      <td>False</td>\n",
       "      <td>False</td>\n",
       "      <td>False</td>\n",
       "      <td>False</td>\n",
       "      <td>False</td>\n",
       "      <td>False</td>\n",
       "      <td>False</td>\n",
       "      <td>False</td>\n",
       "      <td>False</td>\n",
       "      <td>False</td>\n",
       "    </tr>\n",
       "    <tr>\n",
       "      <th>2495</th>\n",
       "      <td>False</td>\n",
       "      <td>False</td>\n",
       "      <td>False</td>\n",
       "      <td>False</td>\n",
       "      <td>False</td>\n",
       "      <td>False</td>\n",
       "      <td>False</td>\n",
       "      <td>False</td>\n",
       "      <td>False</td>\n",
       "      <td>False</td>\n",
       "      <td>False</td>\n",
       "      <td>False</td>\n",
       "      <td>False</td>\n",
       "    </tr>\n",
       "    <tr>\n",
       "      <th>2496</th>\n",
       "      <td>False</td>\n",
       "      <td>False</td>\n",
       "      <td>False</td>\n",
       "      <td>False</td>\n",
       "      <td>False</td>\n",
       "      <td>False</td>\n",
       "      <td>False</td>\n",
       "      <td>False</td>\n",
       "      <td>False</td>\n",
       "      <td>False</td>\n",
       "      <td>False</td>\n",
       "      <td>False</td>\n",
       "      <td>False</td>\n",
       "    </tr>\n",
       "    <tr>\n",
       "      <th>2497</th>\n",
       "      <td>False</td>\n",
       "      <td>False</td>\n",
       "      <td>False</td>\n",
       "      <td>False</td>\n",
       "      <td>False</td>\n",
       "      <td>False</td>\n",
       "      <td>False</td>\n",
       "      <td>False</td>\n",
       "      <td>False</td>\n",
       "      <td>False</td>\n",
       "      <td>False</td>\n",
       "      <td>False</td>\n",
       "      <td>False</td>\n",
       "    </tr>\n",
       "    <tr>\n",
       "      <th>2498</th>\n",
       "      <td>False</td>\n",
       "      <td>False</td>\n",
       "      <td>False</td>\n",
       "      <td>False</td>\n",
       "      <td>False</td>\n",
       "      <td>False</td>\n",
       "      <td>False</td>\n",
       "      <td>False</td>\n",
       "      <td>False</td>\n",
       "      <td>False</td>\n",
       "      <td>False</td>\n",
       "      <td>False</td>\n",
       "      <td>False</td>\n",
       "    </tr>\n",
       "  </tbody>\n",
       "</table>\n",
       "<p>2499 rows × 13 columns</p>\n",
       "</div>"
      ],
      "text/plain": [
       "      Unnamed: 0  price  brand  model   year  title_status  mileage  color  \\\n",
       "0          False  False  False  False  False         False    False  False   \n",
       "1          False  False  False  False  False         False    False  False   \n",
       "2          False  False  False  False  False         False    False  False   \n",
       "3          False  False  False  False  False         False    False  False   \n",
       "4          False  False  False  False  False         False    False  False   \n",
       "...          ...    ...    ...    ...    ...           ...      ...    ...   \n",
       "2494       False  False  False  False  False         False    False  False   \n",
       "2495       False  False  False  False  False         False    False  False   \n",
       "2496       False  False  False  False  False         False    False  False   \n",
       "2497       False  False  False  False  False         False    False  False   \n",
       "2498       False  False  False  False  False         False    False  False   \n",
       "\n",
       "        vin    lot  state  country  condition  \n",
       "0     False  False  False    False      False  \n",
       "1     False  False  False    False      False  \n",
       "2     False  False  False    False      False  \n",
       "3     False  False  False    False      False  \n",
       "4     False  False  False    False      False  \n",
       "...     ...    ...    ...      ...        ...  \n",
       "2494  False  False  False    False      False  \n",
       "2495  False  False  False    False      False  \n",
       "2496  False  False  False    False      False  \n",
       "2497  False  False  False    False      False  \n",
       "2498  False  False  False    False      False  \n",
       "\n",
       "[2499 rows x 13 columns]"
      ]
     },
     "execution_count": 10,
     "metadata": {},
     "output_type": "execute_result"
    }
   ],
   "source": [
    "df.isnull()"
   ]
  },
  {
   "cell_type": "code",
   "execution_count": 11,
   "metadata": {},
   "outputs": [
    {
     "data": {
      "text/plain": [
       "Unnamed: 0      0\n",
       "price           0\n",
       "brand           0\n",
       "model           0\n",
       "year            0\n",
       "title_status    0\n",
       "mileage         0\n",
       "color           0\n",
       "vin             0\n",
       "lot             0\n",
       "state           0\n",
       "country         0\n",
       "condition       0\n",
       "dtype: int64"
      ]
     },
     "execution_count": 11,
     "metadata": {},
     "output_type": "execute_result"
    }
   ],
   "source": [
    "df.isnull().sum()"
   ]
  },
  {
   "cell_type": "code",
   "execution_count": 12,
   "metadata": {},
   "outputs": [
    {
     "data": {
      "text/plain": [
       "0          toyota\n",
       "1            ford\n",
       "2           dodge\n",
       "3            ford\n",
       "4       chevrolet\n",
       "          ...    \n",
       "2494       nissan\n",
       "2495       nissan\n",
       "2496       nissan\n",
       "2497       nissan\n",
       "2498       nissan\n",
       "Name: brand, Length: 2499, dtype: object"
      ]
     },
     "execution_count": 12,
     "metadata": {},
     "output_type": "execute_result"
    }
   ],
   "source": [
    "df['brand']"
   ]
  },
  {
   "cell_type": "code",
   "execution_count": 13,
   "metadata": {},
   "outputs": [
    {
     "data": {
      "text/plain": [
       "array(['toyota', 'ford', 'dodge', 'chevrolet', 'gmc', 'chrysler', 'kia',\n",
       "       'buick', 'infiniti', 'mercedes-benz', 'jeep', 'bmw', 'cadillac',\n",
       "       'hyundai', 'mazda', 'honda', 'heartland', 'jaguar', 'acura',\n",
       "       'harley-davidson', 'audi', 'lincoln', 'lexus', 'nissan', 'land',\n",
       "       'maserati', 'peterbilt', 'ram'], dtype=object)"
      ]
     },
     "execution_count": 13,
     "metadata": {},
     "output_type": "execute_result"
    }
   ],
   "source": [
    "df['brand'].unique()"
   ]
  },
  {
   "cell_type": "code",
   "execution_count": 14,
   "metadata": {},
   "outputs": [
    {
     "data": {
      "text/plain": [
       "28"
      ]
     },
     "execution_count": 14,
     "metadata": {},
     "output_type": "execute_result"
    }
   ],
   "source": [
    "len(df['brand'].unique())"
   ]
  },
  {
   "cell_type": "code",
   "execution_count": 15,
   "metadata": {},
   "outputs": [
    {
     "data": {
      "text/plain": [
       "array(['cruiser', 'se', 'mpv', 'door', '1500', 'pk', 'malibu', 'coupe',\n",
       "       'wagon', 'forte', 'encore', 'sorento', 'doors', 'chassis', 'q70',\n",
       "       'camaro', 'convertible', 'vans', 'srw', 'compass', 'enclave',\n",
       "       '300', 'cherokee', 'pacifica', 'x3', 'equinox', 'challenger', 'm',\n",
       "       'colorado', 'focus', 'durango', 'escape', 'charger', 'explorer',\n",
       "       'f-150', '3500', 'caravan', 'van', 'dart', '2500', 'esv',\n",
       "       'cutaway', 'el', 'edge', 'series', 'flex', 'srx', 'cab', 'pickup',\n",
       "       'vehicl', 'trax', 'tahoe', 'suburban', 'cargo', 'drw', 'fiesta',\n",
       "       'impala', 'soul', 'elantra', 'pioneer', 'trail', 'traverse',\n",
       "       'country', 'sundance', 'road/street', 'nautilus', 'gx', 'q5',\n",
       "       'gle', 'sportage', '5', 'sport', 'discovery', 'acadia', 'ghibli',\n",
       "       'glc', 'e-class', 'truck', 'utility', 'limited', 'sl-class',\n",
       "       'cx-3', '2500hd', 'sonic', 'corvette', 'mdx', 'xt5', 'fusion',\n",
       "       'mustang', 'passenger', 'volt', 'spark', 'cruze', 'ld', 'journey',\n",
       "       'transit', 'ranger', 'taurus', 'max', 'energi', 'expedition',\n",
       "       'bus', 'ecosport', 'f-750', 'd', 'dr', 'hybrid', 'suv', 'connect',\n",
       "       'f-650', 'sentra', 'altima', 'frontier', 'rogue', 'maxima',\n",
       "       'versa', 'note', 'armada', 'pathfinder', 'titan', 'sedan', 'juke',\n",
       "       'murano', 'xterra', 'kicks', 'xd', 'nvp'], dtype=object)"
      ]
     },
     "execution_count": 15,
     "metadata": {},
     "output_type": "execute_result"
    }
   ],
   "source": [
    "df['model'].unique()"
   ]
  },
  {
   "cell_type": "code",
   "execution_count": 16,
   "metadata": {},
   "outputs": [
    {
     "data": {
      "text/plain": [
       "array([2008, 2011, 2018, 2014, 2010, 2017, 2009, 2013, 2015, 2020, 2016,\n",
       "       1973, 2003, 2019, 2002, 2000, 2001, 2005, 2012, 2006, 2007, 1998,\n",
       "       2004, 1994, 1997, 1996, 1999, 1984, 1995, 1993], dtype=int64)"
      ]
     },
     "execution_count": 16,
     "metadata": {},
     "output_type": "execute_result"
    }
   ],
   "source": [
    "df['year'].unique()"
   ]
  },
  {
   "cell_type": "code",
   "execution_count": 17,
   "metadata": {},
   "outputs": [
    {
     "data": {
      "text/plain": [
       "array(['clean vehicle', 'salvage insurance'], dtype=object)"
      ]
     },
     "execution_count": 17,
     "metadata": {},
     "output_type": "execute_result"
    }
   ],
   "source": [
    "df['title_status'].unique()"
   ]
  },
  {
   "cell_type": "code",
   "execution_count": 18,
   "metadata": {},
   "outputs": [
    {
     "data": {
      "text/plain": [
       "array(['black', 'silver', 'blue', 'red', 'white', 'gray', 'orange',\n",
       "       'brown', 'no_color', 'gold', 'charcoal', 'turquoise', 'beige',\n",
       "       'green', 'dark blue', 'maroon', 'phantom black', 'yellow',\n",
       "       'color:', 'light blue', 'toreador red', 'bright white clearcoat',\n",
       "       'billet silver metallic clearcoat', 'black clearcoat',\n",
       "       'jazz blue pearlcoat', 'purple',\n",
       "       'ruby red metallic tinted clearcoat', 'triple yellow tri-coat',\n",
       "       'competition orange', 'off-white', 'shadow black',\n",
       "       'magnetic metallic', 'ingot silver metallic', 'ruby red',\n",
       "       'royal crimson metallic tinted clearcoat', 'kona blue metallic',\n",
       "       'oxford white', 'lightning blue', 'ingot silver',\n",
       "       'white platinum tri-coat metallic', 'guard',\n",
       "       'tuxedo black metallic', 'tan', 'burgundy', 'super black',\n",
       "       'cayenne red', 'morningsky blue', 'pearl white', 'glacier white'],\n",
       "      dtype=object)"
      ]
     },
     "execution_count": 18,
     "metadata": {},
     "output_type": "execute_result"
    }
   ],
   "source": [
    "df['color'].unique()"
   ]
  },
  {
   "cell_type": "code",
   "execution_count": 19,
   "metadata": {},
   "outputs": [
    {
     "data": {
      "text/plain": [
       "array(['new jersey', 'tennessee', 'georgia', 'virginia', 'florida',\n",
       "       'texas', 'california', 'north carolina', 'ohio', 'new york',\n",
       "       'pennsylvania', 'south carolina', 'michigan', 'washington',\n",
       "       'arizona', 'utah', 'kentucky', 'massachusetts', 'nebraska',\n",
       "       'ontario', 'missouri', 'minnesota', 'oklahoma', 'connecticut',\n",
       "       'indiana', 'arkansas', 'kansas', 'wyoming', 'colorado', 'illinois',\n",
       "       'wisconsin', 'mississippi', 'maryland', 'oregon', 'west virginia',\n",
       "       'nevada', 'rhode island', 'louisiana', 'alabama', 'new mexico',\n",
       "       'idaho', 'new hampshire', 'montana', 'vermont'], dtype=object)"
      ]
     },
     "execution_count": 19,
     "metadata": {},
     "output_type": "execute_result"
    }
   ],
   "source": [
    "df['state'].unique()"
   ]
  },
  {
   "cell_type": "code",
   "execution_count": 20,
   "metadata": {},
   "outputs": [
    {
     "data": {
      "text/plain": [
       "array([' usa', ' canada'], dtype=object)"
      ]
     },
     "execution_count": 20,
     "metadata": {},
     "output_type": "execute_result"
    }
   ],
   "source": [
    "df['country'].unique()"
   ]
  },
  {
   "cell_type": "code",
   "execution_count": 21,
   "metadata": {},
   "outputs": [
    {
     "data": {
      "text/plain": [
       "0        6300\n",
       "1        2899\n",
       "2        5350\n",
       "3       25000\n",
       "4       27700\n",
       "        ...  \n",
       "2494     7800\n",
       "2495     9200\n",
       "2496     9200\n",
       "2497     9200\n",
       "2498     9200\n",
       "Name: price, Length: 2499, dtype: int64"
      ]
     },
     "execution_count": 21,
     "metadata": {},
     "output_type": "execute_result"
    }
   ],
   "source": [
    "df['price']"
   ]
  },
  {
   "cell_type": "code",
   "execution_count": 22,
   "metadata": {},
   "outputs": [
    {
     "data": {
      "text/plain": [
       "46900411"
      ]
     },
     "execution_count": 22,
     "metadata": {},
     "output_type": "execute_result"
    }
   ],
   "source": [
    "df['price'].sum()"
   ]
  },
  {
   "cell_type": "code",
   "execution_count": 23,
   "metadata": {},
   "outputs": [
    {
     "data": {
      "text/plain": [
       "2499"
      ]
     },
     "execution_count": 23,
     "metadata": {},
     "output_type": "execute_result"
    }
   ],
   "source": [
    "len(df['price'])"
   ]
  },
  {
   "cell_type": "code",
   "execution_count": 24,
   "metadata": {},
   "outputs": [
    {
     "data": {
      "text/plain": [
       "18767.671468587436"
      ]
     },
     "execution_count": 24,
     "metadata": {},
     "output_type": "execute_result"
    }
   ],
   "source": [
    "df['price'].sum() / len(df['price'])"
   ]
  },
  {
   "cell_type": "code",
   "execution_count": 25,
   "metadata": {},
   "outputs": [
    {
     "data": {
      "text/plain": [
       "18767"
      ]
     },
     "execution_count": 25,
     "metadata": {},
     "output_type": "execute_result"
    }
   ],
   "source": [
    "df['price'].sum() // len(df['price'])"
   ]
  },
  {
   "cell_type": "code",
   "execution_count": 26,
   "metadata": {},
   "outputs": [
    {
     "data": {
      "text/plain": [
       "52298.685474189675"
      ]
     },
     "execution_count": 26,
     "metadata": {},
     "output_type": "execute_result"
    }
   ],
   "source": [
    "df['mileage'].sum() / len(df['mileage'])"
   ]
  },
  {
   "cell_type": "code",
   "execution_count": 27,
   "metadata": {},
   "outputs": [
    {
     "data": {
      "text/plain": [
       "52298.0"
      ]
     },
     "execution_count": 27,
     "metadata": {},
     "output_type": "execute_result"
    }
   ],
   "source": [
    "df['mileage'].sum() // len(df['mileage'])"
   ]
  },
  {
   "cell_type": "code",
   "execution_count": 28,
   "metadata": {},
   "outputs": [],
   "source": [
    "del df['vin']"
   ]
  },
  {
   "cell_type": "code",
   "execution_count": 29,
   "metadata": {},
   "outputs": [],
   "source": [
    "del df['lot']"
   ]
  },
  {
   "cell_type": "code",
   "execution_count": 30,
   "metadata": {},
   "outputs": [],
   "source": [
    "del df['condition']"
   ]
  },
  {
   "cell_type": "code",
   "execution_count": 31,
   "metadata": {},
   "outputs": [],
   "source": [
    "del df['Unnamed: 0']"
   ]
  },
  {
   "cell_type": "code",
   "execution_count": 32,
   "metadata": {},
   "outputs": [
    {
     "data": {
      "text/html": [
       "<div>\n",
       "<style scoped>\n",
       "    .dataframe tbody tr th:only-of-type {\n",
       "        vertical-align: middle;\n",
       "    }\n",
       "\n",
       "    .dataframe tbody tr th {\n",
       "        vertical-align: top;\n",
       "    }\n",
       "\n",
       "    .dataframe thead th {\n",
       "        text-align: right;\n",
       "    }\n",
       "</style>\n",
       "<table border=\"1\" class=\"dataframe\">\n",
       "  <thead>\n",
       "    <tr style=\"text-align: right;\">\n",
       "      <th></th>\n",
       "      <th>price</th>\n",
       "      <th>brand</th>\n",
       "      <th>model</th>\n",
       "      <th>year</th>\n",
       "      <th>title_status</th>\n",
       "      <th>mileage</th>\n",
       "      <th>color</th>\n",
       "      <th>state</th>\n",
       "      <th>country</th>\n",
       "    </tr>\n",
       "  </thead>\n",
       "  <tbody>\n",
       "    <tr>\n",
       "      <th>0</th>\n",
       "      <td>6300</td>\n",
       "      <td>toyota</td>\n",
       "      <td>cruiser</td>\n",
       "      <td>2008</td>\n",
       "      <td>clean vehicle</td>\n",
       "      <td>274117.0</td>\n",
       "      <td>black</td>\n",
       "      <td>new jersey</td>\n",
       "      <td>usa</td>\n",
       "    </tr>\n",
       "    <tr>\n",
       "      <th>1</th>\n",
       "      <td>2899</td>\n",
       "      <td>ford</td>\n",
       "      <td>se</td>\n",
       "      <td>2011</td>\n",
       "      <td>clean vehicle</td>\n",
       "      <td>190552.0</td>\n",
       "      <td>silver</td>\n",
       "      <td>tennessee</td>\n",
       "      <td>usa</td>\n",
       "    </tr>\n",
       "    <tr>\n",
       "      <th>2</th>\n",
       "      <td>5350</td>\n",
       "      <td>dodge</td>\n",
       "      <td>mpv</td>\n",
       "      <td>2018</td>\n",
       "      <td>clean vehicle</td>\n",
       "      <td>39590.0</td>\n",
       "      <td>silver</td>\n",
       "      <td>georgia</td>\n",
       "      <td>usa</td>\n",
       "    </tr>\n",
       "    <tr>\n",
       "      <th>3</th>\n",
       "      <td>25000</td>\n",
       "      <td>ford</td>\n",
       "      <td>door</td>\n",
       "      <td>2014</td>\n",
       "      <td>clean vehicle</td>\n",
       "      <td>64146.0</td>\n",
       "      <td>blue</td>\n",
       "      <td>virginia</td>\n",
       "      <td>usa</td>\n",
       "    </tr>\n",
       "    <tr>\n",
       "      <th>4</th>\n",
       "      <td>27700</td>\n",
       "      <td>chevrolet</td>\n",
       "      <td>1500</td>\n",
       "      <td>2018</td>\n",
       "      <td>clean vehicle</td>\n",
       "      <td>6654.0</td>\n",
       "      <td>red</td>\n",
       "      <td>florida</td>\n",
       "      <td>usa</td>\n",
       "    </tr>\n",
       "  </tbody>\n",
       "</table>\n",
       "</div>"
      ],
      "text/plain": [
       "   price      brand    model  year   title_status   mileage   color  \\\n",
       "0   6300     toyota  cruiser  2008  clean vehicle  274117.0   black   \n",
       "1   2899       ford       se  2011  clean vehicle  190552.0  silver   \n",
       "2   5350      dodge      mpv  2018  clean vehicle   39590.0  silver   \n",
       "3  25000       ford     door  2014  clean vehicle   64146.0    blue   \n",
       "4  27700  chevrolet     1500  2018  clean vehicle    6654.0     red   \n",
       "\n",
       "        state country  \n",
       "0  new jersey     usa  \n",
       "1   tennessee     usa  \n",
       "2     georgia     usa  \n",
       "3    virginia     usa  \n",
       "4     florida     usa  "
      ]
     },
     "execution_count": 32,
     "metadata": {},
     "output_type": "execute_result"
    }
   ],
   "source": [
    "df.head()"
   ]
  },
  {
   "cell_type": "code",
   "execution_count": 33,
   "metadata": {},
   "outputs": [
    {
     "data": {
      "text/plain": [
       "84900"
      ]
     },
     "execution_count": 33,
     "metadata": {},
     "output_type": "execute_result"
    }
   ],
   "source": [
    "df['price'].max()"
   ]
  },
  {
   "cell_type": "code",
   "execution_count": 34,
   "metadata": {},
   "outputs": [
    {
     "data": {
      "text/plain": [
       "0"
      ]
     },
     "execution_count": 34,
     "metadata": {},
     "output_type": "execute_result"
    }
   ],
   "source": [
    "df['price'].min()"
   ]
  },
  {
   "cell_type": "code",
   "execution_count": 35,
   "metadata": {},
   "outputs": [
    {
     "data": {
      "text/plain": [
       "1017936.0"
      ]
     },
     "execution_count": 35,
     "metadata": {},
     "output_type": "execute_result"
    }
   ],
   "source": [
    "df['mileage'].max()"
   ]
  },
  {
   "cell_type": "code",
   "execution_count": 36,
   "metadata": {},
   "outputs": [
    {
     "data": {
      "text/plain": [
       "0.0"
      ]
     },
     "execution_count": 36,
     "metadata": {},
     "output_type": "execute_result"
    }
   ],
   "source": [
    "df['mileage'].min()"
   ]
  },
  {
   "cell_type": "code",
   "execution_count": 37,
   "metadata": {},
   "outputs": [
    {
     "data": {
      "text/plain": [
       "0        True\n",
       "1       False\n",
       "2       False\n",
       "3       False\n",
       "4       False\n",
       "        ...  \n",
       "2494    False\n",
       "2495    False\n",
       "2496    False\n",
       "2497    False\n",
       "2498    False\n",
       "Name: brand, Length: 2499, dtype: bool"
      ]
     },
     "execution_count": 37,
     "metadata": {},
     "output_type": "execute_result"
    }
   ],
   "source": [
    "df['brand'] == 'toyota'#it just returns true and false whether the particular column has brand toyota or not"
   ]
  },
  {
   "cell_type": "code",
   "execution_count": 38,
   "metadata": {},
   "outputs": [
    {
     "data": {
      "text/html": [
       "<div>\n",
       "<style scoped>\n",
       "    .dataframe tbody tr th:only-of-type {\n",
       "        vertical-align: middle;\n",
       "    }\n",
       "\n",
       "    .dataframe tbody tr th {\n",
       "        vertical-align: top;\n",
       "    }\n",
       "\n",
       "    .dataframe thead th {\n",
       "        text-align: right;\n",
       "    }\n",
       "</style>\n",
       "<table border=\"1\" class=\"dataframe\">\n",
       "  <thead>\n",
       "    <tr style=\"text-align: right;\">\n",
       "      <th></th>\n",
       "      <th>price</th>\n",
       "      <th>brand</th>\n",
       "      <th>model</th>\n",
       "      <th>year</th>\n",
       "      <th>title_status</th>\n",
       "      <th>mileage</th>\n",
       "      <th>color</th>\n",
       "      <th>state</th>\n",
       "      <th>country</th>\n",
       "    </tr>\n",
       "  </thead>\n",
       "  <tbody>\n",
       "    <tr>\n",
       "      <th>0</th>\n",
       "      <td>6300</td>\n",
       "      <td>toyota</td>\n",
       "      <td>cruiser</td>\n",
       "      <td>2008</td>\n",
       "      <td>clean vehicle</td>\n",
       "      <td>274117.0</td>\n",
       "      <td>black</td>\n",
       "      <td>new jersey</td>\n",
       "      <td>usa</td>\n",
       "    </tr>\n",
       "  </tbody>\n",
       "</table>\n",
       "</div>"
      ],
      "text/plain": [
       "   price   brand    model  year   title_status   mileage  color       state  \\\n",
       "0   6300  toyota  cruiser  2008  clean vehicle  274117.0  black  new jersey   \n",
       "\n",
       "  country  \n",
       "0     usa  "
      ]
     },
     "execution_count": 38,
     "metadata": {},
     "output_type": "execute_result"
    }
   ],
   "source": [
    "df[df['brand'] == 'toyota'] # it'll return only row having car from toyota brand"
   ]
  },
  {
   "cell_type": "code",
   "execution_count": 39,
   "metadata": {},
   "outputs": [
    {
     "data": {
      "text/html": [
       "<div>\n",
       "<style scoped>\n",
       "    .dataframe tbody tr th:only-of-type {\n",
       "        vertical-align: middle;\n",
       "    }\n",
       "\n",
       "    .dataframe tbody tr th {\n",
       "        vertical-align: top;\n",
       "    }\n",
       "\n",
       "    .dataframe thead th {\n",
       "        text-align: right;\n",
       "    }\n",
       "</style>\n",
       "<table border=\"1\" class=\"dataframe\">\n",
       "  <thead>\n",
       "    <tr style=\"text-align: right;\">\n",
       "      <th></th>\n",
       "      <th>price</th>\n",
       "      <th>brand</th>\n",
       "      <th>model</th>\n",
       "      <th>year</th>\n",
       "      <th>title_status</th>\n",
       "      <th>mileage</th>\n",
       "      <th>color</th>\n",
       "      <th>state</th>\n",
       "      <th>country</th>\n",
       "    </tr>\n",
       "  </thead>\n",
       "  <tbody>\n",
       "    <tr>\n",
       "      <th>2</th>\n",
       "      <td>5350</td>\n",
       "      <td>dodge</td>\n",
       "      <td>mpv</td>\n",
       "      <td>2018</td>\n",
       "      <td>clean vehicle</td>\n",
       "      <td>39590.0</td>\n",
       "      <td>silver</td>\n",
       "      <td>georgia</td>\n",
       "      <td>usa</td>\n",
       "    </tr>\n",
       "    <tr>\n",
       "      <th>5</th>\n",
       "      <td>5700</td>\n",
       "      <td>dodge</td>\n",
       "      <td>mpv</td>\n",
       "      <td>2018</td>\n",
       "      <td>clean vehicle</td>\n",
       "      <td>45561.0</td>\n",
       "      <td>white</td>\n",
       "      <td>texas</td>\n",
       "      <td>usa</td>\n",
       "    </tr>\n",
       "    <tr>\n",
       "      <th>10</th>\n",
       "      <td>10400</td>\n",
       "      <td>dodge</td>\n",
       "      <td>coupe</td>\n",
       "      <td>2009</td>\n",
       "      <td>clean vehicle</td>\n",
       "      <td>107856.0</td>\n",
       "      <td>orange</td>\n",
       "      <td>georgia</td>\n",
       "      <td>usa</td>\n",
       "    </tr>\n",
       "    <tr>\n",
       "      <th>48</th>\n",
       "      <td>5580</td>\n",
       "      <td>dodge</td>\n",
       "      <td>mpv</td>\n",
       "      <td>2017</td>\n",
       "      <td>clean vehicle</td>\n",
       "      <td>46829.0</td>\n",
       "      <td>gray</td>\n",
       "      <td>texas</td>\n",
       "      <td>usa</td>\n",
       "    </tr>\n",
       "    <tr>\n",
       "      <th>94</th>\n",
       "      <td>39800</td>\n",
       "      <td>dodge</td>\n",
       "      <td>challenger</td>\n",
       "      <td>2015</td>\n",
       "      <td>clean vehicle</td>\n",
       "      <td>3641.0</td>\n",
       "      <td>white</td>\n",
       "      <td>pennsylvania</td>\n",
       "      <td>usa</td>\n",
       "    </tr>\n",
       "    <tr>\n",
       "      <th>...</th>\n",
       "      <td>...</td>\n",
       "      <td>...</td>\n",
       "      <td>...</td>\n",
       "      <td>...</td>\n",
       "      <td>...</td>\n",
       "      <td>...</td>\n",
       "      <td>...</td>\n",
       "      <td>...</td>\n",
       "      <td>...</td>\n",
       "    </tr>\n",
       "    <tr>\n",
       "      <th>1193</th>\n",
       "      <td>23900</td>\n",
       "      <td>dodge</td>\n",
       "      <td>charger</td>\n",
       "      <td>2019</td>\n",
       "      <td>clean vehicle</td>\n",
       "      <td>35248.0</td>\n",
       "      <td>white</td>\n",
       "      <td>georgia</td>\n",
       "      <td>usa</td>\n",
       "    </tr>\n",
       "    <tr>\n",
       "      <th>1194</th>\n",
       "      <td>14500</td>\n",
       "      <td>dodge</td>\n",
       "      <td>caravan</td>\n",
       "      <td>2018</td>\n",
       "      <td>clean vehicle</td>\n",
       "      <td>40417.0</td>\n",
       "      <td>no_color</td>\n",
       "      <td>florida</td>\n",
       "      <td>usa</td>\n",
       "    </tr>\n",
       "    <tr>\n",
       "      <th>1195</th>\n",
       "      <td>23000</td>\n",
       "      <td>dodge</td>\n",
       "      <td>durango</td>\n",
       "      <td>2017</td>\n",
       "      <td>clean vehicle</td>\n",
       "      <td>30309.0</td>\n",
       "      <td>gray</td>\n",
       "      <td>virginia</td>\n",
       "      <td>usa</td>\n",
       "    </tr>\n",
       "    <tr>\n",
       "      <th>1196</th>\n",
       "      <td>15000</td>\n",
       "      <td>dodge</td>\n",
       "      <td>journey</td>\n",
       "      <td>2018</td>\n",
       "      <td>clean vehicle</td>\n",
       "      <td>42303.0</td>\n",
       "      <td>red</td>\n",
       "      <td>north carolina</td>\n",
       "      <td>usa</td>\n",
       "    </tr>\n",
       "    <tr>\n",
       "      <th>1197</th>\n",
       "      <td>15000</td>\n",
       "      <td>dodge</td>\n",
       "      <td>journey</td>\n",
       "      <td>2018</td>\n",
       "      <td>clean vehicle</td>\n",
       "      <td>35326.0</td>\n",
       "      <td>white</td>\n",
       "      <td>north carolina</td>\n",
       "      <td>usa</td>\n",
       "    </tr>\n",
       "  </tbody>\n",
       "</table>\n",
       "<p>432 rows × 9 columns</p>\n",
       "</div>"
      ],
      "text/plain": [
       "      price  brand       model  year   title_status   mileage     color  \\\n",
       "2      5350  dodge         mpv  2018  clean vehicle   39590.0    silver   \n",
       "5      5700  dodge         mpv  2018  clean vehicle   45561.0     white   \n",
       "10    10400  dodge       coupe  2009  clean vehicle  107856.0    orange   \n",
       "48     5580  dodge         mpv  2017  clean vehicle   46829.0      gray   \n",
       "94    39800  dodge  challenger  2015  clean vehicle    3641.0     white   \n",
       "...     ...    ...         ...   ...            ...       ...       ...   \n",
       "1193  23900  dodge     charger  2019  clean vehicle   35248.0     white   \n",
       "1194  14500  dodge     caravan  2018  clean vehicle   40417.0  no_color   \n",
       "1195  23000  dodge     durango  2017  clean vehicle   30309.0      gray   \n",
       "1196  15000  dodge     journey  2018  clean vehicle   42303.0       red   \n",
       "1197  15000  dodge     journey  2018  clean vehicle   35326.0     white   \n",
       "\n",
       "               state country  \n",
       "2            georgia     usa  \n",
       "5              texas     usa  \n",
       "10           georgia     usa  \n",
       "48             texas     usa  \n",
       "94      pennsylvania     usa  \n",
       "...              ...     ...  \n",
       "1193         georgia     usa  \n",
       "1194         florida     usa  \n",
       "1195        virginia     usa  \n",
       "1196  north carolina     usa  \n",
       "1197  north carolina     usa  \n",
       "\n",
       "[432 rows x 9 columns]"
      ]
     },
     "execution_count": 39,
     "metadata": {},
     "output_type": "execute_result"
    }
   ],
   "source": [
    "df[df['brand'] == 'dodge']"
   ]
  },
  {
   "cell_type": "code",
   "execution_count": 40,
   "metadata": {},
   "outputs": [
    {
     "data": {
      "text/html": [
       "<div>\n",
       "<style scoped>\n",
       "    .dataframe tbody tr th:only-of-type {\n",
       "        vertical-align: middle;\n",
       "    }\n",
       "\n",
       "    .dataframe tbody tr th {\n",
       "        vertical-align: top;\n",
       "    }\n",
       "\n",
       "    .dataframe thead th {\n",
       "        text-align: right;\n",
       "    }\n",
       "</style>\n",
       "<table border=\"1\" class=\"dataframe\">\n",
       "  <thead>\n",
       "    <tr style=\"text-align: right;\">\n",
       "      <th></th>\n",
       "      <th>price</th>\n",
       "      <th>brand</th>\n",
       "      <th>model</th>\n",
       "      <th>year</th>\n",
       "      <th>title_status</th>\n",
       "      <th>mileage</th>\n",
       "      <th>color</th>\n",
       "      <th>state</th>\n",
       "      <th>country</th>\n",
       "    </tr>\n",
       "  </thead>\n",
       "  <tbody>\n",
       "    <tr>\n",
       "      <th>1</th>\n",
       "      <td>2899</td>\n",
       "      <td>ford</td>\n",
       "      <td>se</td>\n",
       "      <td>2011</td>\n",
       "      <td>clean vehicle</td>\n",
       "      <td>190552.0</td>\n",
       "      <td>silver</td>\n",
       "      <td>tennessee</td>\n",
       "      <td>usa</td>\n",
       "    </tr>\n",
       "    <tr>\n",
       "      <th>3</th>\n",
       "      <td>25000</td>\n",
       "      <td>ford</td>\n",
       "      <td>door</td>\n",
       "      <td>2014</td>\n",
       "      <td>clean vehicle</td>\n",
       "      <td>64146.0</td>\n",
       "      <td>blue</td>\n",
       "      <td>virginia</td>\n",
       "      <td>usa</td>\n",
       "    </tr>\n",
       "    <tr>\n",
       "      <th>9</th>\n",
       "      <td>5250</td>\n",
       "      <td>ford</td>\n",
       "      <td>mpv</td>\n",
       "      <td>2017</td>\n",
       "      <td>clean vehicle</td>\n",
       "      <td>63418.0</td>\n",
       "      <td>black</td>\n",
       "      <td>texas</td>\n",
       "      <td>usa</td>\n",
       "    </tr>\n",
       "    <tr>\n",
       "      <th>14</th>\n",
       "      <td>20700</td>\n",
       "      <td>ford</td>\n",
       "      <td>door</td>\n",
       "      <td>2013</td>\n",
       "      <td>clean vehicle</td>\n",
       "      <td>100757.0</td>\n",
       "      <td>black</td>\n",
       "      <td>virginia</td>\n",
       "      <td>usa</td>\n",
       "    </tr>\n",
       "    <tr>\n",
       "      <th>18</th>\n",
       "      <td>5210</td>\n",
       "      <td>ford</td>\n",
       "      <td>mpv</td>\n",
       "      <td>2017</td>\n",
       "      <td>clean vehicle</td>\n",
       "      <td>35714.0</td>\n",
       "      <td>white</td>\n",
       "      <td>texas</td>\n",
       "      <td>usa</td>\n",
       "    </tr>\n",
       "    <tr>\n",
       "      <th>...</th>\n",
       "      <td>...</td>\n",
       "      <td>...</td>\n",
       "      <td>...</td>\n",
       "      <td>...</td>\n",
       "      <td>...</td>\n",
       "      <td>...</td>\n",
       "      <td>...</td>\n",
       "      <td>...</td>\n",
       "      <td>...</td>\n",
       "    </tr>\n",
       "    <tr>\n",
       "      <th>2199</th>\n",
       "      <td>13800</td>\n",
       "      <td>ford</td>\n",
       "      <td>fusion</td>\n",
       "      <td>2019</td>\n",
       "      <td>clean vehicle</td>\n",
       "      <td>29345.0</td>\n",
       "      <td>white</td>\n",
       "      <td>north carolina</td>\n",
       "      <td>usa</td>\n",
       "    </tr>\n",
       "    <tr>\n",
       "      <th>2200</th>\n",
       "      <td>56000</td>\n",
       "      <td>ford</td>\n",
       "      <td>srw</td>\n",
       "      <td>2018</td>\n",
       "      <td>clean vehicle</td>\n",
       "      <td>25371.0</td>\n",
       "      <td>black</td>\n",
       "      <td>pennsylvania</td>\n",
       "      <td>usa</td>\n",
       "    </tr>\n",
       "    <tr>\n",
       "      <th>2201</th>\n",
       "      <td>13800</td>\n",
       "      <td>ford</td>\n",
       "      <td>fusion</td>\n",
       "      <td>2019</td>\n",
       "      <td>clean vehicle</td>\n",
       "      <td>30054.0</td>\n",
       "      <td>silver</td>\n",
       "      <td>north carolina</td>\n",
       "      <td>usa</td>\n",
       "    </tr>\n",
       "    <tr>\n",
       "      <th>2202</th>\n",
       "      <td>45800</td>\n",
       "      <td>ford</td>\n",
       "      <td>srw</td>\n",
       "      <td>2018</td>\n",
       "      <td>clean vehicle</td>\n",
       "      <td>11173.0</td>\n",
       "      <td>white</td>\n",
       "      <td>pennsylvania</td>\n",
       "      <td>usa</td>\n",
       "    </tr>\n",
       "    <tr>\n",
       "      <th>2203</th>\n",
       "      <td>13800</td>\n",
       "      <td>ford</td>\n",
       "      <td>fusion</td>\n",
       "      <td>2019</td>\n",
       "      <td>clean vehicle</td>\n",
       "      <td>30902.0</td>\n",
       "      <td>no_color</td>\n",
       "      <td>north carolina</td>\n",
       "      <td>usa</td>\n",
       "    </tr>\n",
       "  </tbody>\n",
       "</table>\n",
       "<p>1235 rows × 9 columns</p>\n",
       "</div>"
      ],
      "text/plain": [
       "      price brand   model  year   title_status   mileage     color  \\\n",
       "1      2899  ford      se  2011  clean vehicle  190552.0    silver   \n",
       "3     25000  ford    door  2014  clean vehicle   64146.0      blue   \n",
       "9      5250  ford     mpv  2017  clean vehicle   63418.0     black   \n",
       "14    20700  ford    door  2013  clean vehicle  100757.0     black   \n",
       "18     5210  ford     mpv  2017  clean vehicle   35714.0     white   \n",
       "...     ...   ...     ...   ...            ...       ...       ...   \n",
       "2199  13800  ford  fusion  2019  clean vehicle   29345.0     white   \n",
       "2200  56000  ford     srw  2018  clean vehicle   25371.0     black   \n",
       "2201  13800  ford  fusion  2019  clean vehicle   30054.0    silver   \n",
       "2202  45800  ford     srw  2018  clean vehicle   11173.0     white   \n",
       "2203  13800  ford  fusion  2019  clean vehicle   30902.0  no_color   \n",
       "\n",
       "               state country  \n",
       "1          tennessee     usa  \n",
       "3           virginia     usa  \n",
       "9              texas     usa  \n",
       "14          virginia     usa  \n",
       "18             texas     usa  \n",
       "...              ...     ...  \n",
       "2199  north carolina     usa  \n",
       "2200    pennsylvania     usa  \n",
       "2201  north carolina     usa  \n",
       "2202    pennsylvania     usa  \n",
       "2203  north carolina     usa  \n",
       "\n",
       "[1235 rows x 9 columns]"
      ]
     },
     "execution_count": 40,
     "metadata": {},
     "output_type": "execute_result"
    }
   ],
   "source": [
    "df[df['brand'] == 'ford']"
   ]
  },
  {
   "cell_type": "code",
   "execution_count": 41,
   "metadata": {},
   "outputs": [
    {
     "name": "stdout",
     "output_type": "stream",
     "text": [
      "toyota\n",
      "ford\n",
      "dodge\n",
      "chevrolet\n",
      "gmc\n",
      "chrysler\n",
      "kia\n",
      "buick\n",
      "infiniti\n",
      "mercedes-benz\n",
      "jeep\n",
      "bmw\n",
      "cadillac\n",
      "hyundai\n",
      "mazda\n",
      "honda\n",
      "heartland\n",
      "jaguar\n",
      "acura\n",
      "harley-davidson\n",
      "audi\n",
      "lincoln\n",
      "lexus\n",
      "nissan\n",
      "land\n",
      "maserati\n",
      "peterbilt\n",
      "ram\n"
     ]
    }
   ],
   "source": [
    "for brand in df['brand'].unique():\n",
    "    print(brand)"
   ]
  },
  {
   "cell_type": "code",
   "execution_count": 42,
   "metadata": {},
   "outputs": [
    {
     "data": {
      "text/plain": [
       "1235"
      ]
     },
     "execution_count": 42,
     "metadata": {},
     "output_type": "execute_result"
    }
   ],
   "source": [
    "len(df[df['brand'] == 'ford'])"
   ]
  },
  {
   "cell_type": "code",
   "execution_count": 43,
   "metadata": {},
   "outputs": [
    {
     "name": "stdout",
     "output_type": "stream",
     "text": [
      "toyota : 1\n",
      "ford : 1235\n",
      "dodge : 432\n",
      "chevrolet : 297\n",
      "gmc : 42\n",
      "chrysler : 18\n",
      "kia : 13\n",
      "buick : 13\n",
      "infiniti : 12\n",
      "mercedes-benz : 10\n",
      "jeep : 30\n",
      "bmw : 17\n",
      "cadillac : 10\n",
      "hyundai : 15\n",
      "mazda : 2\n",
      "honda : 12\n",
      "heartland : 5\n",
      "jaguar : 1\n",
      "acura : 3\n",
      "harley-davidson : 1\n",
      "audi : 4\n",
      "lincoln : 2\n",
      "lexus : 2\n",
      "nissan : 312\n",
      "land : 4\n",
      "maserati : 1\n",
      "peterbilt : 4\n",
      "ram : 1\n"
     ]
    }
   ],
   "source": [
    "for brand in df['brand'].unique():\n",
    "    print(brand,\":\",len(df[df['brand'] == brand]))"
   ]
  },
  {
   "cell_type": "code",
   "execution_count": 44,
   "metadata": {},
   "outputs": [
    {
     "name": "stdout",
     "output_type": "stream",
     "text": [
      "cruiser : 1\n",
      "se : 1\n",
      "mpv : 87\n",
      "door : 651\n",
      "1500 : 39\n",
      "pk : 5\n",
      "malibu : 12\n",
      "coupe : 6\n",
      "wagon : 30\n",
      "forte : 2\n",
      "encore : 3\n",
      "sorento : 5\n",
      "doors : 148\n",
      "chassis : 4\n",
      "q70 : 1\n",
      "camaro : 6\n",
      "convertible : 1\n",
      "vans : 2\n",
      "srw : 38\n",
      "compass : 6\n",
      "enclave : 2\n",
      "300 : 6\n",
      "cherokee : 3\n",
      "pacifica : 3\n",
      "x3 : 2\n",
      "equinox : 18\n",
      "challenger : 44\n",
      "m : 1\n",
      "colorado : 12\n",
      "focus : 9\n",
      "durango : 64\n",
      "escape : 39\n",
      "charger : 42\n",
      "explorer : 39\n",
      "f-150 : 219\n",
      "3500 : 4\n",
      "caravan : 102\n",
      "van : 46\n",
      "dart : 1\n",
      "2500 : 8\n",
      "esv : 1\n",
      "cutaway : 12\n",
      "el : 3\n",
      "edge : 34\n",
      "series : 8\n",
      "flex : 33\n",
      "srx : 1\n",
      "cab : 8\n",
      "pickup : 15\n",
      "vehicl : 1\n",
      "trax : 8\n",
      "tahoe : 9\n",
      "suburban : 16\n",
      "cargo : 2\n",
      "drw : 10\n",
      "fiesta : 14\n",
      "impala : 12\n",
      "soul : 1\n",
      "elantra : 1\n",
      "pioneer : 1\n",
      "trail : 1\n",
      "traverse : 6\n",
      "country : 2\n",
      "sundance : 1\n",
      "road/street : 1\n",
      "nautilus : 1\n",
      "gx : 1\n",
      "q5 : 1\n",
      "gle : 2\n",
      "sportage : 1\n",
      "5 : 1\n",
      "sport : 40\n",
      "discovery : 1\n",
      "acadia : 1\n",
      "ghibli : 1\n",
      "glc : 1\n",
      "e-class : 1\n",
      "truck : 4\n",
      "utility : 1\n",
      "limited : 1\n",
      "sl-class : 1\n",
      "cx-3 : 1\n",
      "2500hd : 1\n",
      "sonic : 2\n",
      "corvette : 4\n",
      "mdx : 1\n",
      "xt5 : 1\n",
      "fusion : 65\n",
      "mustang : 29\n",
      "passenger : 3\n",
      "volt : 2\n",
      "spark : 1\n",
      "cruze : 2\n",
      "ld : 3\n",
      "journey : 61\n",
      "transit : 41\n",
      "ranger : 6\n",
      "taurus : 10\n",
      "max : 41\n",
      "energi : 1\n",
      "expedition : 28\n",
      "bus : 2\n",
      "ecosport : 7\n",
      "f-750 : 1\n",
      "d : 2\n",
      "dr : 1\n",
      "hybrid : 5\n",
      "suv : 1\n",
      "connect : 1\n",
      "f-650 : 3\n",
      "sentra : 28\n",
      "altima : 21\n",
      "frontier : 14\n",
      "rogue : 54\n",
      "maxima : 3\n",
      "versa : 34\n",
      "note : 2\n",
      "armada : 4\n",
      "pathfinder : 22\n",
      "titan : 5\n",
      "sedan : 4\n",
      "juke : 1\n",
      "murano : 5\n",
      "xterra : 1\n",
      "kicks : 1\n",
      "xd : 1\n",
      "nvp : 1\n"
     ]
    }
   ],
   "source": [
    "for model in df['model'].unique():\n",
    "    print(model,\":\",len(df[df['model'] == model]))"
   ]
  },
  {
   "cell_type": "code",
   "execution_count": 45,
   "metadata": {},
   "outputs": [
    {
     "name": "stdout",
     "output_type": "stream",
     "text": [
      "black : 516\n",
      "silver : 300\n",
      "blue : 151\n",
      "red : 192\n",
      "white : 707\n",
      "gray : 395\n",
      "orange : 20\n",
      "brown : 15\n",
      "no_color : 61\n",
      "gold : 19\n",
      "charcoal : 18\n",
      "turquoise : 1\n",
      "beige : 5\n",
      "green : 24\n",
      "dark blue : 1\n",
      "maroon : 1\n",
      "phantom black : 1\n",
      "yellow : 9\n",
      "color: : 5\n",
      "light blue : 1\n",
      "toreador red : 1\n",
      "bright white clearcoat : 2\n",
      "billet silver metallic clearcoat : 3\n",
      "black clearcoat : 2\n",
      "jazz blue pearlcoat : 1\n",
      "purple : 1\n",
      "ruby red metallic tinted clearcoat : 2\n",
      "triple yellow tri-coat : 3\n",
      "competition orange : 1\n",
      "off-white : 2\n",
      "shadow black : 5\n",
      "magnetic metallic : 6\n",
      "ingot silver metallic : 4\n",
      "ruby red : 1\n",
      "royal crimson metallic tinted clearcoat : 1\n",
      "kona blue metallic : 1\n",
      "oxford white : 4\n",
      "lightning blue : 1\n",
      "ingot silver : 1\n",
      "white platinum tri-coat metallic : 2\n",
      "guard : 1\n",
      "tuxedo black metallic : 2\n",
      "tan : 1\n",
      "burgundy : 1\n",
      "super black : 3\n",
      "cayenne red : 2\n",
      "morningsky blue : 1\n",
      "pearl white : 1\n",
      "glacier white : 1\n"
     ]
    }
   ],
   "source": [
    "for clr in df['color'].unique():\n",
    "    print(clr,\":\",len(df[df['color'] == clr]))"
   ]
  },
  {
   "cell_type": "code",
   "execution_count": 46,
   "metadata": {},
   "outputs": [
    {
     "name": "stdout",
     "output_type": "stream",
     "text": [
      "new jersey : 87\n",
      "tennessee : 26\n",
      "georgia : 51\n",
      "virginia : 90\n",
      "florida : 246\n",
      "texas : 214\n",
      "california : 190\n",
      "north carolina : 146\n",
      "ohio : 31\n",
      "new york : 58\n",
      "pennsylvania : 299\n",
      "south carolina : 64\n",
      "michigan : 169\n",
      "washington : 14\n",
      "arizona : 33\n",
      "utah : 10\n",
      "kentucky : 9\n",
      "massachusetts : 27\n",
      "nebraska : 4\n",
      "ontario : 7\n",
      "missouri : 46\n",
      "minnesota : 119\n",
      "oklahoma : 71\n",
      "connecticut : 25\n",
      "indiana : 14\n",
      "arkansas : 12\n",
      "kansas : 4\n",
      "wyoming : 1\n",
      "colorado : 21\n",
      "illinois : 113\n",
      "wisconsin : 94\n",
      "mississippi : 24\n",
      "maryland : 4\n",
      "oregon : 27\n",
      "west virginia : 21\n",
      "nevada : 85\n",
      "rhode island : 2\n",
      "louisiana : 11\n",
      "alabama : 17\n",
      "new mexico : 4\n",
      "idaho : 2\n",
      "new hampshire : 4\n",
      "montana : 1\n",
      "vermont : 2\n"
     ]
    }
   ],
   "source": [
    "for state in df['state'].unique():\n",
    "    print(state,\":\",len(df[df['state'] == state]))"
   ]
  },
  {
   "cell_type": "code",
   "execution_count": 47,
   "metadata": {},
   "outputs": [
    {
     "name": "stdout",
     "output_type": "stream",
     "text": [
      "2008 : 18\n",
      "2011 : 23\n",
      "2018 : 395\n",
      "2014 : 104\n",
      "2010 : 13\n",
      "2017 : 377\n",
      "2009 : 11\n",
      "2013 : 86\n",
      "2015 : 196\n",
      "2020 : 48\n",
      "2016 : 203\n",
      "1973 : 1\n",
      "2003 : 9\n",
      "2019 : 892\n",
      "2002 : 2\n",
      "2000 : 4\n",
      "2001 : 5\n",
      "2005 : 6\n",
      "2012 : 72\n",
      "2006 : 8\n",
      "2007 : 6\n",
      "1998 : 4\n",
      "2004 : 6\n",
      "1994 : 2\n",
      "1997 : 2\n",
      "1996 : 2\n",
      "1999 : 1\n",
      "1984 : 1\n",
      "1995 : 1\n",
      "1993 : 1\n"
     ]
    }
   ],
   "source": [
    "for year in df['year'].unique():\n",
    "    print(year,\":\",len(df[df['year'] == year]))"
   ]
  },
  {
   "cell_type": "code",
   "execution_count": 48,
   "metadata": {},
   "outputs": [
    {
     "name": "stdout",
     "output_type": "stream",
     "text": [
      " usa : 2492\n",
      " canada : 7\n"
     ]
    }
   ],
   "source": [
    "for country in df['country'].unique():\n",
    "    print(country,\":\",len(df[df['country'] == country]))"
   ]
  },
  {
   "cell_type": "markdown",
   "metadata": {},
   "source": [
    "### 1. Top 5 car brands in terms of number of cars"
   ]
  },
  {
   "cell_type": "code",
   "execution_count": 49,
   "metadata": {},
   "outputs": [],
   "source": [
    "data= []\n",
    "for brand in df['brand'].unique():\n",
    "    data.append([brand,len(df[df['brand'] == brand])])\n",
    "    \n",
    "data=pd.DataFrame(data,columns = ['brand','freq'])"
   ]
  },
  {
   "cell_type": "code",
   "execution_count": 50,
   "metadata": {},
   "outputs": [
    {
     "data": {
      "text/html": [
       "<div>\n",
       "<style scoped>\n",
       "    .dataframe tbody tr th:only-of-type {\n",
       "        vertical-align: middle;\n",
       "    }\n",
       "\n",
       "    .dataframe tbody tr th {\n",
       "        vertical-align: top;\n",
       "    }\n",
       "\n",
       "    .dataframe thead th {\n",
       "        text-align: right;\n",
       "    }\n",
       "</style>\n",
       "<table border=\"1\" class=\"dataframe\">\n",
       "  <thead>\n",
       "    <tr style=\"text-align: right;\">\n",
       "      <th></th>\n",
       "      <th>brand</th>\n",
       "      <th>freq</th>\n",
       "    </tr>\n",
       "  </thead>\n",
       "  <tbody>\n",
       "    <tr>\n",
       "      <th>0</th>\n",
       "      <td>toyota</td>\n",
       "      <td>1</td>\n",
       "    </tr>\n",
       "    <tr>\n",
       "      <th>1</th>\n",
       "      <td>ford</td>\n",
       "      <td>1235</td>\n",
       "    </tr>\n",
       "    <tr>\n",
       "      <th>2</th>\n",
       "      <td>dodge</td>\n",
       "      <td>432</td>\n",
       "    </tr>\n",
       "    <tr>\n",
       "      <th>3</th>\n",
       "      <td>chevrolet</td>\n",
       "      <td>297</td>\n",
       "    </tr>\n",
       "    <tr>\n",
       "      <th>4</th>\n",
       "      <td>gmc</td>\n",
       "      <td>42</td>\n",
       "    </tr>\n",
       "    <tr>\n",
       "      <th>5</th>\n",
       "      <td>chrysler</td>\n",
       "      <td>18</td>\n",
       "    </tr>\n",
       "    <tr>\n",
       "      <th>6</th>\n",
       "      <td>kia</td>\n",
       "      <td>13</td>\n",
       "    </tr>\n",
       "    <tr>\n",
       "      <th>7</th>\n",
       "      <td>buick</td>\n",
       "      <td>13</td>\n",
       "    </tr>\n",
       "    <tr>\n",
       "      <th>8</th>\n",
       "      <td>infiniti</td>\n",
       "      <td>12</td>\n",
       "    </tr>\n",
       "    <tr>\n",
       "      <th>9</th>\n",
       "      <td>mercedes-benz</td>\n",
       "      <td>10</td>\n",
       "    </tr>\n",
       "    <tr>\n",
       "      <th>10</th>\n",
       "      <td>jeep</td>\n",
       "      <td>30</td>\n",
       "    </tr>\n",
       "    <tr>\n",
       "      <th>11</th>\n",
       "      <td>bmw</td>\n",
       "      <td>17</td>\n",
       "    </tr>\n",
       "    <tr>\n",
       "      <th>12</th>\n",
       "      <td>cadillac</td>\n",
       "      <td>10</td>\n",
       "    </tr>\n",
       "    <tr>\n",
       "      <th>13</th>\n",
       "      <td>hyundai</td>\n",
       "      <td>15</td>\n",
       "    </tr>\n",
       "    <tr>\n",
       "      <th>14</th>\n",
       "      <td>mazda</td>\n",
       "      <td>2</td>\n",
       "    </tr>\n",
       "    <tr>\n",
       "      <th>15</th>\n",
       "      <td>honda</td>\n",
       "      <td>12</td>\n",
       "    </tr>\n",
       "    <tr>\n",
       "      <th>16</th>\n",
       "      <td>heartland</td>\n",
       "      <td>5</td>\n",
       "    </tr>\n",
       "    <tr>\n",
       "      <th>17</th>\n",
       "      <td>jaguar</td>\n",
       "      <td>1</td>\n",
       "    </tr>\n",
       "    <tr>\n",
       "      <th>18</th>\n",
       "      <td>acura</td>\n",
       "      <td>3</td>\n",
       "    </tr>\n",
       "    <tr>\n",
       "      <th>19</th>\n",
       "      <td>harley-davidson</td>\n",
       "      <td>1</td>\n",
       "    </tr>\n",
       "    <tr>\n",
       "      <th>20</th>\n",
       "      <td>audi</td>\n",
       "      <td>4</td>\n",
       "    </tr>\n",
       "    <tr>\n",
       "      <th>21</th>\n",
       "      <td>lincoln</td>\n",
       "      <td>2</td>\n",
       "    </tr>\n",
       "    <tr>\n",
       "      <th>22</th>\n",
       "      <td>lexus</td>\n",
       "      <td>2</td>\n",
       "    </tr>\n",
       "    <tr>\n",
       "      <th>23</th>\n",
       "      <td>nissan</td>\n",
       "      <td>312</td>\n",
       "    </tr>\n",
       "    <tr>\n",
       "      <th>24</th>\n",
       "      <td>land</td>\n",
       "      <td>4</td>\n",
       "    </tr>\n",
       "    <tr>\n",
       "      <th>25</th>\n",
       "      <td>maserati</td>\n",
       "      <td>1</td>\n",
       "    </tr>\n",
       "    <tr>\n",
       "      <th>26</th>\n",
       "      <td>peterbilt</td>\n",
       "      <td>4</td>\n",
       "    </tr>\n",
       "    <tr>\n",
       "      <th>27</th>\n",
       "      <td>ram</td>\n",
       "      <td>1</td>\n",
       "    </tr>\n",
       "  </tbody>\n",
       "</table>\n",
       "</div>"
      ],
      "text/plain": [
       "              brand  freq\n",
       "0            toyota     1\n",
       "1              ford  1235\n",
       "2             dodge   432\n",
       "3         chevrolet   297\n",
       "4               gmc    42\n",
       "5          chrysler    18\n",
       "6               kia    13\n",
       "7             buick    13\n",
       "8          infiniti    12\n",
       "9     mercedes-benz    10\n",
       "10             jeep    30\n",
       "11              bmw    17\n",
       "12         cadillac    10\n",
       "13          hyundai    15\n",
       "14            mazda     2\n",
       "15            honda    12\n",
       "16        heartland     5\n",
       "17           jaguar     1\n",
       "18            acura     3\n",
       "19  harley-davidson     1\n",
       "20             audi     4\n",
       "21          lincoln     2\n",
       "22            lexus     2\n",
       "23           nissan   312\n",
       "24             land     4\n",
       "25         maserati     1\n",
       "26        peterbilt     4\n",
       "27              ram     1"
      ]
     },
     "execution_count": 50,
     "metadata": {},
     "output_type": "execute_result"
    }
   ],
   "source": [
    "data"
   ]
  },
  {
   "cell_type": "code",
   "execution_count": 51,
   "metadata": {},
   "outputs": [
    {
     "data": {
      "text/html": [
       "<div>\n",
       "<style scoped>\n",
       "    .dataframe tbody tr th:only-of-type {\n",
       "        vertical-align: middle;\n",
       "    }\n",
       "\n",
       "    .dataframe tbody tr th {\n",
       "        vertical-align: top;\n",
       "    }\n",
       "\n",
       "    .dataframe thead th {\n",
       "        text-align: right;\n",
       "    }\n",
       "</style>\n",
       "<table border=\"1\" class=\"dataframe\">\n",
       "  <thead>\n",
       "    <tr style=\"text-align: right;\">\n",
       "      <th></th>\n",
       "      <th>brand</th>\n",
       "      <th>freq</th>\n",
       "    </tr>\n",
       "  </thead>\n",
       "  <tbody>\n",
       "    <tr>\n",
       "      <th>1</th>\n",
       "      <td>ford</td>\n",
       "      <td>1235</td>\n",
       "    </tr>\n",
       "    <tr>\n",
       "      <th>2</th>\n",
       "      <td>dodge</td>\n",
       "      <td>432</td>\n",
       "    </tr>\n",
       "    <tr>\n",
       "      <th>23</th>\n",
       "      <td>nissan</td>\n",
       "      <td>312</td>\n",
       "    </tr>\n",
       "    <tr>\n",
       "      <th>3</th>\n",
       "      <td>chevrolet</td>\n",
       "      <td>297</td>\n",
       "    </tr>\n",
       "    <tr>\n",
       "      <th>4</th>\n",
       "      <td>gmc</td>\n",
       "      <td>42</td>\n",
       "    </tr>\n",
       "    <tr>\n",
       "      <th>10</th>\n",
       "      <td>jeep</td>\n",
       "      <td>30</td>\n",
       "    </tr>\n",
       "    <tr>\n",
       "      <th>5</th>\n",
       "      <td>chrysler</td>\n",
       "      <td>18</td>\n",
       "    </tr>\n",
       "    <tr>\n",
       "      <th>11</th>\n",
       "      <td>bmw</td>\n",
       "      <td>17</td>\n",
       "    </tr>\n",
       "    <tr>\n",
       "      <th>13</th>\n",
       "      <td>hyundai</td>\n",
       "      <td>15</td>\n",
       "    </tr>\n",
       "    <tr>\n",
       "      <th>6</th>\n",
       "      <td>kia</td>\n",
       "      <td>13</td>\n",
       "    </tr>\n",
       "    <tr>\n",
       "      <th>7</th>\n",
       "      <td>buick</td>\n",
       "      <td>13</td>\n",
       "    </tr>\n",
       "    <tr>\n",
       "      <th>8</th>\n",
       "      <td>infiniti</td>\n",
       "      <td>12</td>\n",
       "    </tr>\n",
       "    <tr>\n",
       "      <th>15</th>\n",
       "      <td>honda</td>\n",
       "      <td>12</td>\n",
       "    </tr>\n",
       "    <tr>\n",
       "      <th>12</th>\n",
       "      <td>cadillac</td>\n",
       "      <td>10</td>\n",
       "    </tr>\n",
       "    <tr>\n",
       "      <th>9</th>\n",
       "      <td>mercedes-benz</td>\n",
       "      <td>10</td>\n",
       "    </tr>\n",
       "    <tr>\n",
       "      <th>16</th>\n",
       "      <td>heartland</td>\n",
       "      <td>5</td>\n",
       "    </tr>\n",
       "    <tr>\n",
       "      <th>24</th>\n",
       "      <td>land</td>\n",
       "      <td>4</td>\n",
       "    </tr>\n",
       "    <tr>\n",
       "      <th>26</th>\n",
       "      <td>peterbilt</td>\n",
       "      <td>4</td>\n",
       "    </tr>\n",
       "    <tr>\n",
       "      <th>20</th>\n",
       "      <td>audi</td>\n",
       "      <td>4</td>\n",
       "    </tr>\n",
       "    <tr>\n",
       "      <th>18</th>\n",
       "      <td>acura</td>\n",
       "      <td>3</td>\n",
       "    </tr>\n",
       "    <tr>\n",
       "      <th>21</th>\n",
       "      <td>lincoln</td>\n",
       "      <td>2</td>\n",
       "    </tr>\n",
       "    <tr>\n",
       "      <th>22</th>\n",
       "      <td>lexus</td>\n",
       "      <td>2</td>\n",
       "    </tr>\n",
       "    <tr>\n",
       "      <th>14</th>\n",
       "      <td>mazda</td>\n",
       "      <td>2</td>\n",
       "    </tr>\n",
       "    <tr>\n",
       "      <th>25</th>\n",
       "      <td>maserati</td>\n",
       "      <td>1</td>\n",
       "    </tr>\n",
       "    <tr>\n",
       "      <th>0</th>\n",
       "      <td>toyota</td>\n",
       "      <td>1</td>\n",
       "    </tr>\n",
       "    <tr>\n",
       "      <th>19</th>\n",
       "      <td>harley-davidson</td>\n",
       "      <td>1</td>\n",
       "    </tr>\n",
       "    <tr>\n",
       "      <th>17</th>\n",
       "      <td>jaguar</td>\n",
       "      <td>1</td>\n",
       "    </tr>\n",
       "    <tr>\n",
       "      <th>27</th>\n",
       "      <td>ram</td>\n",
       "      <td>1</td>\n",
       "    </tr>\n",
       "  </tbody>\n",
       "</table>\n",
       "</div>"
      ],
      "text/plain": [
       "              brand  freq\n",
       "1              ford  1235\n",
       "2             dodge   432\n",
       "23           nissan   312\n",
       "3         chevrolet   297\n",
       "4               gmc    42\n",
       "10             jeep    30\n",
       "5          chrysler    18\n",
       "11              bmw    17\n",
       "13          hyundai    15\n",
       "6               kia    13\n",
       "7             buick    13\n",
       "8          infiniti    12\n",
       "15            honda    12\n",
       "12         cadillac    10\n",
       "9     mercedes-benz    10\n",
       "16        heartland     5\n",
       "24             land     4\n",
       "26        peterbilt     4\n",
       "20             audi     4\n",
       "18            acura     3\n",
       "21          lincoln     2\n",
       "22            lexus     2\n",
       "14            mazda     2\n",
       "25         maserati     1\n",
       "0            toyota     1\n",
       "19  harley-davidson     1\n",
       "17           jaguar     1\n",
       "27              ram     1"
      ]
     },
     "execution_count": 51,
     "metadata": {},
     "output_type": "execute_result"
    }
   ],
   "source": [
    "data.sort_values(by='freq',ascending=False)"
   ]
  },
  {
   "cell_type": "code",
   "execution_count": 52,
   "metadata": {},
   "outputs": [
    {
     "data": {
      "text/html": [
       "<div>\n",
       "<style scoped>\n",
       "    .dataframe tbody tr th:only-of-type {\n",
       "        vertical-align: middle;\n",
       "    }\n",
       "\n",
       "    .dataframe tbody tr th {\n",
       "        vertical-align: top;\n",
       "    }\n",
       "\n",
       "    .dataframe thead th {\n",
       "        text-align: right;\n",
       "    }\n",
       "</style>\n",
       "<table border=\"1\" class=\"dataframe\">\n",
       "  <thead>\n",
       "    <tr style=\"text-align: right;\">\n",
       "      <th></th>\n",
       "      <th>brand</th>\n",
       "      <th>freq</th>\n",
       "    </tr>\n",
       "  </thead>\n",
       "  <tbody>\n",
       "    <tr>\n",
       "      <th>1</th>\n",
       "      <td>ford</td>\n",
       "      <td>1235</td>\n",
       "    </tr>\n",
       "    <tr>\n",
       "      <th>2</th>\n",
       "      <td>dodge</td>\n",
       "      <td>432</td>\n",
       "    </tr>\n",
       "    <tr>\n",
       "      <th>23</th>\n",
       "      <td>nissan</td>\n",
       "      <td>312</td>\n",
       "    </tr>\n",
       "    <tr>\n",
       "      <th>3</th>\n",
       "      <td>chevrolet</td>\n",
       "      <td>297</td>\n",
       "    </tr>\n",
       "    <tr>\n",
       "      <th>4</th>\n",
       "      <td>gmc</td>\n",
       "      <td>42</td>\n",
       "    </tr>\n",
       "  </tbody>\n",
       "</table>\n",
       "</div>"
      ],
      "text/plain": [
       "        brand  freq\n",
       "1        ford  1235\n",
       "2       dodge   432\n",
       "23     nissan   312\n",
       "3   chevrolet   297\n",
       "4         gmc    42"
      ]
     },
     "execution_count": 52,
     "metadata": {},
     "output_type": "execute_result"
    }
   ],
   "source": [
    "data.sort_values(by='freq',ascending=False).head()"
   ]
  },
  {
   "cell_type": "markdown",
   "metadata": {},
   "source": [
    "#### answer"
   ]
  },
  {
   "cell_type": "code",
   "execution_count": 53,
   "metadata": {},
   "outputs": [],
   "source": [
    "data= []\n",
    "for brand in df['brand'].unique():\n",
    "    data.append([brand,len(df[df['brand'] == brand])])\n",
    "    \n",
    "data=pd.DataFrame(data,columns = ['brand','freq'])\n",
    "data=data.sort_values(by='freq',ascending=False).head()"
   ]
  },
  {
   "cell_type": "code",
   "execution_count": 54,
   "metadata": {},
   "outputs": [
    {
     "data": {
      "text/html": [
       "<div>\n",
       "<style scoped>\n",
       "    .dataframe tbody tr th:only-of-type {\n",
       "        vertical-align: middle;\n",
       "    }\n",
       "\n",
       "    .dataframe tbody tr th {\n",
       "        vertical-align: top;\n",
       "    }\n",
       "\n",
       "    .dataframe thead th {\n",
       "        text-align: right;\n",
       "    }\n",
       "</style>\n",
       "<table border=\"1\" class=\"dataframe\">\n",
       "  <thead>\n",
       "    <tr style=\"text-align: right;\">\n",
       "      <th></th>\n",
       "      <th>brand</th>\n",
       "      <th>freq</th>\n",
       "    </tr>\n",
       "  </thead>\n",
       "  <tbody>\n",
       "    <tr>\n",
       "      <th>1</th>\n",
       "      <td>ford</td>\n",
       "      <td>1235</td>\n",
       "    </tr>\n",
       "    <tr>\n",
       "      <th>2</th>\n",
       "      <td>dodge</td>\n",
       "      <td>432</td>\n",
       "    </tr>\n",
       "    <tr>\n",
       "      <th>23</th>\n",
       "      <td>nissan</td>\n",
       "      <td>312</td>\n",
       "    </tr>\n",
       "    <tr>\n",
       "      <th>3</th>\n",
       "      <td>chevrolet</td>\n",
       "      <td>297</td>\n",
       "    </tr>\n",
       "    <tr>\n",
       "      <th>4</th>\n",
       "      <td>gmc</td>\n",
       "      <td>42</td>\n",
       "    </tr>\n",
       "  </tbody>\n",
       "</table>\n",
       "</div>"
      ],
      "text/plain": [
       "        brand  freq\n",
       "1        ford  1235\n",
       "2       dodge   432\n",
       "23     nissan   312\n",
       "3   chevrolet   297\n",
       "4         gmc    42"
      ]
     },
     "execution_count": 54,
     "metadata": {},
     "output_type": "execute_result"
    }
   ],
   "source": [
    "data"
   ]
  },
  {
   "cell_type": "markdown",
   "metadata": {},
   "source": [
    "## 2. graph on car brand based on frequency of cars"
   ]
  },
  {
   "cell_type": "code",
   "execution_count": 55,
   "metadata": {},
   "outputs": [
    {
     "data": {
      "text/plain": [
       "<matplotlib.axes._subplots.AxesSubplot at 0x22dcbfec100>"
      ]
     },
     "execution_count": 55,
     "metadata": {},
     "output_type": "execute_result"
    },
    {
     "data": {
      "image/png": "[encoded data removed]",
      "text/plain": [
       "<Figure size 720x360 with 1 Axes>"
      ]
     },
     "metadata": {
      "needs_background": "light"
     },
     "output_type": "display_data"
    }
   ],
   "source": [
    "data.plot(x='brand',y='freq',kind='bar',figsize=(10,5))"
   ]
  },
  {
   "cell_type": "markdown",
   "metadata": {},
   "source": [
    "## for all cars"
   ]
  },
  {
   "cell_type": "code",
   "execution_count": 56,
   "metadata": {},
   "outputs": [
    {
     "data": {
      "text/plain": [
       "<matplotlib.axes._subplots.AxesSubplot at 0x22dcc739370>"
      ]
     },
     "execution_count": 56,
     "metadata": {},
     "output_type": "execute_result"
    },
    {
     "data": {
      "image/png": "[encoded data removed]",
      "text/plain": [
       "<Figure size 2160x720 with 1 Axes>"
      ]
     },
     "metadata": {
      "needs_background": "light"
     },
     "output_type": "display_data"
    }
   ],
   "source": [
    "data= []\n",
    "for brand in df['brand'].unique():\n",
    "    data.append([brand,len(df[df['brand'] == brand])])\n",
    "    \n",
    "data=pd.DataFrame(data,columns = ['brand','freq'])\n",
    "data=data.sort_values(by='freq',ascending=False)\n",
    "data.plot(x='brand',y='freq',kind='bar',figsize=(30,10))"
   ]
  },
  {
   "cell_type": "code",
   "execution_count": 57,
   "metadata": {},
   "outputs": [
    {
     "data": {
      "text/html": [
       "<div>\n",
       "<style scoped>\n",
       "    .dataframe tbody tr th:only-of-type {\n",
       "        vertical-align: middle;\n",
       "    }\n",
       "\n",
       "    .dataframe tbody tr th {\n",
       "        vertical-align: top;\n",
       "    }\n",
       "\n",
       "    .dataframe thead th {\n",
       "        text-align: right;\n",
       "    }\n",
       "</style>\n",
       "<table border=\"1\" class=\"dataframe\">\n",
       "  <thead>\n",
       "    <tr style=\"text-align: right;\">\n",
       "      <th></th>\n",
       "      <th>brand</th>\n",
       "      <th>freq</th>\n",
       "    </tr>\n",
       "  </thead>\n",
       "  <tbody>\n",
       "    <tr>\n",
       "      <th>1</th>\n",
       "      <td>ford</td>\n",
       "      <td>1235</td>\n",
       "    </tr>\n",
       "    <tr>\n",
       "      <th>2</th>\n",
       "      <td>dodge</td>\n",
       "      <td>432</td>\n",
       "    </tr>\n",
       "    <tr>\n",
       "      <th>23</th>\n",
       "      <td>nissan</td>\n",
       "      <td>312</td>\n",
       "    </tr>\n",
       "    <tr>\n",
       "      <th>3</th>\n",
       "      <td>chevrolet</td>\n",
       "      <td>297</td>\n",
       "    </tr>\n",
       "    <tr>\n",
       "      <th>4</th>\n",
       "      <td>gmc</td>\n",
       "      <td>42</td>\n",
       "    </tr>\n",
       "    <tr>\n",
       "      <th>10</th>\n",
       "      <td>jeep</td>\n",
       "      <td>30</td>\n",
       "    </tr>\n",
       "    <tr>\n",
       "      <th>5</th>\n",
       "      <td>chrysler</td>\n",
       "      <td>18</td>\n",
       "    </tr>\n",
       "    <tr>\n",
       "      <th>11</th>\n",
       "      <td>bmw</td>\n",
       "      <td>17</td>\n",
       "    </tr>\n",
       "    <tr>\n",
       "      <th>13</th>\n",
       "      <td>hyundai</td>\n",
       "      <td>15</td>\n",
       "    </tr>\n",
       "    <tr>\n",
       "      <th>6</th>\n",
       "      <td>kia</td>\n",
       "      <td>13</td>\n",
       "    </tr>\n",
       "    <tr>\n",
       "      <th>7</th>\n",
       "      <td>buick</td>\n",
       "      <td>13</td>\n",
       "    </tr>\n",
       "    <tr>\n",
       "      <th>8</th>\n",
       "      <td>infiniti</td>\n",
       "      <td>12</td>\n",
       "    </tr>\n",
       "    <tr>\n",
       "      <th>15</th>\n",
       "      <td>honda</td>\n",
       "      <td>12</td>\n",
       "    </tr>\n",
       "    <tr>\n",
       "      <th>12</th>\n",
       "      <td>cadillac</td>\n",
       "      <td>10</td>\n",
       "    </tr>\n",
       "    <tr>\n",
       "      <th>9</th>\n",
       "      <td>mercedes-benz</td>\n",
       "      <td>10</td>\n",
       "    </tr>\n",
       "    <tr>\n",
       "      <th>16</th>\n",
       "      <td>heartland</td>\n",
       "      <td>5</td>\n",
       "    </tr>\n",
       "    <tr>\n",
       "      <th>24</th>\n",
       "      <td>land</td>\n",
       "      <td>4</td>\n",
       "    </tr>\n",
       "    <tr>\n",
       "      <th>26</th>\n",
       "      <td>peterbilt</td>\n",
       "      <td>4</td>\n",
       "    </tr>\n",
       "    <tr>\n",
       "      <th>20</th>\n",
       "      <td>audi</td>\n",
       "      <td>4</td>\n",
       "    </tr>\n",
       "    <tr>\n",
       "      <th>18</th>\n",
       "      <td>acura</td>\n",
       "      <td>3</td>\n",
       "    </tr>\n",
       "    <tr>\n",
       "      <th>21</th>\n",
       "      <td>lincoln</td>\n",
       "      <td>2</td>\n",
       "    </tr>\n",
       "    <tr>\n",
       "      <th>22</th>\n",
       "      <td>lexus</td>\n",
       "      <td>2</td>\n",
       "    </tr>\n",
       "    <tr>\n",
       "      <th>14</th>\n",
       "      <td>mazda</td>\n",
       "      <td>2</td>\n",
       "    </tr>\n",
       "    <tr>\n",
       "      <th>25</th>\n",
       "      <td>maserati</td>\n",
       "      <td>1</td>\n",
       "    </tr>\n",
       "    <tr>\n",
       "      <th>0</th>\n",
       "      <td>toyota</td>\n",
       "      <td>1</td>\n",
       "    </tr>\n",
       "    <tr>\n",
       "      <th>19</th>\n",
       "      <td>harley-davidson</td>\n",
       "      <td>1</td>\n",
       "    </tr>\n",
       "    <tr>\n",
       "      <th>17</th>\n",
       "      <td>jaguar</td>\n",
       "      <td>1</td>\n",
       "    </tr>\n",
       "    <tr>\n",
       "      <th>27</th>\n",
       "      <td>ram</td>\n",
       "      <td>1</td>\n",
       "    </tr>\n",
       "  </tbody>\n",
       "</table>\n",
       "</div>"
      ],
      "text/plain": [
       "              brand  freq\n",
       "1              ford  1235\n",
       "2             dodge   432\n",
       "23           nissan   312\n",
       "3         chevrolet   297\n",
       "4               gmc    42\n",
       "10             jeep    30\n",
       "5          chrysler    18\n",
       "11              bmw    17\n",
       "13          hyundai    15\n",
       "6               kia    13\n",
       "7             buick    13\n",
       "8          infiniti    12\n",
       "15            honda    12\n",
       "12         cadillac    10\n",
       "9     mercedes-benz    10\n",
       "16        heartland     5\n",
       "24             land     4\n",
       "26        peterbilt     4\n",
       "20             audi     4\n",
       "18            acura     3\n",
       "21          lincoln     2\n",
       "22            lexus     2\n",
       "14            mazda     2\n",
       "25         maserati     1\n",
       "0            toyota     1\n",
       "19  harley-davidson     1\n",
       "17           jaguar     1\n",
       "27              ram     1"
      ]
     },
     "execution_count": 57,
     "metadata": {},
     "output_type": "execute_result"
    }
   ],
   "source": [
    "data"
   ]
  },
  {
   "cell_type": "markdown",
   "metadata": {},
   "source": [
    "## 3.Car industry trend"
   ]
  },
  {
   "cell_type": "code",
   "execution_count": 61,
   "metadata": {},
   "outputs": [
    {
     "data": {
      "text/plain": [
       "<matplotlib.axes._subplots.AxesSubplot at 0x22dccce0bb0>"
      ]
     },
     "execution_count": 61,
     "metadata": {},
     "output_type": "execute_result"
    },
    {
     "data": {
      "image/png": "[encoded data removed]",
      "text/plain": [
       "<Figure size 720x360 with 1 Axes>"
      ]
     },
     "metadata": {
      "needs_background": "light"
     },
     "output_type": "display_data"
    }
   ],
   "source": [
    "data= []\n",
    "for year in df['year'].unique():\n",
    "    data.append([year,len(df[df['year'] == year])])\n",
    "data=pd.DataFrame(data,columns = ['year','freq'])\n",
    "data=data.sort_values(by='year',ascending=True)\n",
    "data.plot(x='year',y='freq',kind='line',figsize=(10,5))"
   ]
  },
  {
   "cell_type": "markdown",
   "metadata": {},
   "source": [
    "## 4. Most popular car color"
   ]
  },
  {
   "cell_type": "code",
   "execution_count": 63,
   "metadata": {},
   "outputs": [
    {
     "data": {
      "text/plain": [
       "<matplotlib.axes._subplots.AxesSubplot at 0x22dce2b3070>"
      ]
     },
     "execution_count": 63,
     "metadata": {},
     "output_type": "execute_result"
    },
    {
     "data": {
      "image/png": "[encoded data removed]",
      "text/plain": [
       "<Figure size 1440x720 with 1 Axes>"
      ]
     },
     "metadata": {
      "needs_background": "light"
     },
     "output_type": "display_data"
    }
   ],
   "source": [
    "data= []\n",
    "for color in df['color'].unique():\n",
    "    data.append([color,len(df[df['color'] == color])])\n",
    "data=pd.DataFrame(data,columns = ['color','freq'])\n",
    "data=data.sort_values(by='freq',ascending=False)\n",
    "data.plot(x='color',y='freq',kind='bar',figsize=(20,10))"
   ]
  },
  {
   "cell_type": "markdown",
   "metadata": {},
   "source": [
    "## 5.Which car brand is having maximum average price?"
   ]
  },
  {
   "cell_type": "code",
   "execution_count": 68,
   "metadata": {},
   "outputs": [
    {
     "data": {
      "text/plain": [
       "brand\n",
       "harley-davidson    54680.000000\n",
       "lexus              33220.000000\n",
       "maserati           30300.000000\n",
       "land               28900.000000\n",
       "mercedes-benz      28704.000000\n",
       "bmw                26397.058824\n",
       "cadillac           24941.000000\n",
       "ford               21666.888259\n",
       "buick              19715.769231\n",
       "chevrolet          18669.952862\n",
       "lincoln            18150.000000\n",
       "dodge              17781.988426\n",
       "audi               13981.250000\n",
       "chrysler           13686.111111\n",
       "infiniti           13098.333333\n",
       "nissan             12065.820513\n",
       "kia                11123.846154\n",
       "ram                11050.000000\n",
       "jeep               10933.833333\n",
       "gmc                10657.380952\n",
       "mazda               8000.000000\n",
       "acura               7266.666667\n",
       "toyota              6300.000000\n",
       "honda               6127.500000\n",
       "hyundai             5203.200000\n",
       "heartland           2966.000000\n",
       "jaguar              2800.000000\n",
       "peterbilt            400.000000\n",
       "Name: price, dtype: float64"
      ]
     },
     "execution_count": 68,
     "metadata": {},
     "output_type": "execute_result"
    }
   ],
   "source": [
    "df.groupby('brand').mean()['price'].sort_values(ascending=False)"
   ]
  },
  {
   "cell_type": "code",
   "execution_count": 70,
   "metadata": {},
   "outputs": [
    {
     "data": {
      "text/plain": [
       "<matplotlib.axes._subplots.AxesSubplot at 0x22dce653160>"
      ]
     },
     "execution_count": 70,
     "metadata": {},
     "output_type": "execute_result"
    },
    {
     "data": {
      "image/png": "[encoded data removed]",
      "text/plain": [
       "<Figure size 720x360 with 1 Axes>"
      ]
     },
     "metadata": {
      "needs_background": "light"
     },
     "output_type": "display_data"
    }
   ],
   "source": [
    "df.groupby('brand').mean()['price'].sort_values(ascending=False).plot.bar(figsize=(10,5))"
   ]
  },
  {
   "cell_type": "markdown",
   "metadata": {},
   "source": [
    "## 6. Which state is having most expensive cars?"
   ]
  },
  {
   "cell_type": "code",
   "execution_count": 72,
   "metadata": {},
   "outputs": [
    {
     "data": {
      "image/png": "[encoded data removed]",
      "text/plain": [
       "<Figure size 2160x720 with 1 Axes>"
      ]
     },
     "metadata": {
      "needs_background": "light"
     },
     "output_type": "display_data"
    }
   ],
   "source": [
    "plt.figure(figsize = (30,10))\n",
    "df.groupby('state').mean()['price'].sort_values(ascending=False).plot.bar()\n",
    "plt.show()"
   ]
  },
  {
   "cell_type": "code",
   "execution_count": 73,
   "metadata": {},
   "outputs": [
    {
     "data": {
      "image/png": "[encoded data removed]",
      "text/plain": [
       "<Figure size 2160x720 with 1 Axes>"
      ]
     },
     "metadata": {
      "needs_background": "light"
     },
     "output_type": "display_data"
    }
   ],
   "source": [
    "plt.figure(figsize = (30,10))\n",
    "df.groupby('state').mean()['price'].sort_values(ascending=False).plot.bar(color='orange')\n",
    "plt.show()"
   ]
  },
  {
   "cell_type": "code",
   "execution_count": 74,
   "metadata": {},
   "outputs": [
    {
     "data": {
      "image/png": "[encoded data removed]",
      "text/plain": [
       "<Figure size 2160x720 with 1 Axes>"
      ]
     },
     "metadata": {
      "needs_background": "light"
     },
     "output_type": "display_data"
    }
   ],
   "source": [
    "plt.figure(figsize = (30,10))\n",
    "df.groupby('state').mean()['price'].sort_values(ascending=False).plot.bar(color='pink')\n",
    "plt.show()"
   ]
  },
  {
   "cell_type": "code",
   "execution_count": null,
   "metadata": {},
   "outputs": [],
   "source": []
  }
 ],
 "metadata": {
  "kernelspec": {
   "display_name": "Python 3",
   "language": "python",
   "name": "python3"
  },
  "language_info": {
   "codemirror_mode": {
    "name": "ipython",
    "version": 3
   },
   "file_extension": ".py",
   "mimetype": "text/x-python",
   "name": "python",
   "nbconvert_exporter": "python",
   "pygments_lexer": "ipython3",
   "version": "3.8.3"
  }
 },
 "nbformat": 4,
 "nbformat_minor": 4
}
