{
  "nbformat": 4,
  "nbformat_minor": 0,
  "metadata": {
    "colab": {
      "name": "First repository.ipynb",
      "provenance": []
    },
    "kernelspec": {
      "name": "python3",
      "display_name": "Python 3"
    },
    "language_info": {
      "name": "python"
    }
  },
  "cells": [
    {
      "cell_type": "code",
      "metadata": {
        "id": "IHXWrkrg2B0f"
      },
      "source": [
        "Record={1001:{\"item\":\"SoftDrink\",\"quantity\":10,\"Cost\":25,\"In store\":24},\n",
        "1002:{\"item\":\"IceCream\",\"quantity\":50,\"Cost\":120,\"In store\":110},\n",
        "1003:{\"item\":\"Scarf\",\"quantity\":50,\"Cost\":105,\"In store\":100},\n",
        "1004:{\"item\":\"Ghee\",\"quantity\":10,\"Cost\":125,\"In store\":125},\n",
        "1005:{\"item\":\"MilkShake\",\"quantity\":10,\"Cost\":95,\"In store\":95},\n",
        "1006:{\"item\":\"Chocolate\",\"quantity\":11,\"Cost\":80,\"In store\":75},\n",
        "1007:{\"item\":\"Cookies\",\"quantity\":12,\"Cost\":20,\"In store\":18},\n",
        "1008:{\"item\":\"Biscuits\",\"quantity\":21,\"Cost\":20,\"In store\":15},\n",
        "1009:{\"item\":\"wafers\",\"quantity\":18,\"Cost\":25,\"In store\":17},\n",
        "1010:{\"item\":\"Dal\",\"quantity\":100,\"Cost\":65,\"In store\":65},\n",
        "1011:{\"item\":\"Shampoo\",\"quantity\":21,\"Cost\":55,\"In store\":55},\n",
        "1012:{\"item\":\"BoiledRice\",\"quantity\":31,\"Cost\":55,\"In store\":55},\n",
        "1013:{\"item\":\"WholeWheat\",\"quantity\":18,\"Cost\":45,\"In store\":44},\n",
        "1014:{\"item\":\"Maida\",\"quantity\":19,\"Cost\":28,\"In store\":20},\n",
        "1015:{\"item\":\"RiceFloor\",\"quantity\":51,\"Cost\":70,\"In store\":55},\n",
        "1016:{\"item\":\"WheatFloor\",\"quantity\":41,\"Cost\":46,\"In store\":35},\n",
        "1017:{\"item\":\"DishWash\",\"quantity\":18,\"Cost\":85,\"In store\":80},\n",
        "1018:{\"item\":\"BodyWash\",\"quantity\":15,\"Cost\":185,\"In store\":182},\n",
        "1019:{\"item\":\"FaceWash\",\"quantity\":14,\"Cost\":55,\"In store\":54},\n",
        "1020:{\"item\":\"noodels\",\"quantity\":17,\"Cost\":86,\"In store\":80},\n",
        "1021:{\"item\":\"chips\",\"quantity\":12,\"Cost\":10,\"In store\":10},\n",
        "1022:{\"item\":\"nachos\",\"quantity\":15,\"Cost\":55,\"In store\":45},\n",
        "1023:{\"item\":\"Sugar\",\"quantity\":81,\"Cost\":114,\"In store\":110},\n",
        "1024:{\"item\":\"Jaggery\",\"quantity\":15,\"Cost\":95,\"In store\":85},\n",
        "1025:{\"item\":\"ToothPaste\",\"quantity\":11,\"Cost\":105,\"In store\":85},\n",
        "1026:{\"item\":\"ToothBrush\",\"quantity\":10,\"Cost\":18,\"In store\":15},\n",
        "1027:{\"item\":\"CookingOil\",\"quantity\":21,\"Cost\":125,\"In store\":115},\n",
        "1028:{\"item\":\"GramFloor\",\"quantity\":15,\"Cost\":35,\"In store\":27},\n",
        "1029:{\"item\":\"paneer\",\"quantity\":18,\"Cost\":155,\"In store\":150},\n",
        "1030:{\"item\":\"cuminSeeds\",\"quantity\":51,\"Cost\":55,\"In store\":40}}"
      ],
      "execution_count": 1,
      "outputs": []
    },
    {
      "cell_type": "code",
      "metadata": {
        "id": "Rr4faAee2Zix"
      },
      "source": [
        "import json\n"
      ],
      "execution_count": 2,
      "outputs": []
    },
    {
      "cell_type": "code",
      "metadata": {
        "id": "NtQKM7U_2eSa"
      },
      "source": [
        "js=json.dumps(Record)\n"
      ],
      "execution_count": 3,
      "outputs": []
    },
    {
      "cell_type": "code",
      "metadata": {
        "id": "dS7HBs3n2hyj"
      },
      "source": [
        "fd=open(\"Record.json\",'w')\n",
        "fd.write(js)\n",
        "fd.close()"
      ],
      "execution_count": 4,
      "outputs": []
    },
    {
      "cell_type": "code",
      "metadata": {
        "colab": {
          "base_uri": "https://localhost:8080/"
        },
        "id": "WKB9iF0j2lq7",
        "outputId": "6e1ac103-bb76-437b-a505-8120ea282772"
      },
      "source": [
        "print(\"****************************************\")\n",
        "n=int(input(\"Enter the total number of product\\n****************************************\\n\"))\n",
        "total=0\n",
        "for i in range (n):\n",
        "  item_id=int(input(\"id: \"))\n",
        "  item_quantity=int(input(\"Quantity: \"))\n",
        "  print(Record[item_id])\n",
        "  t=int(item_quantity)*int(Record[item_id]['In store'])\n",
        "  total=total+t\n",
        "  Record[item_id][\"quantity\"]=int(Record[item_id][\"quantity\"])-item_quantity\n",
        "\n",
        "  \n",
        "\n",
        "print(\"Total billing amount= \",total,\"\\n*******************************************\")"
      ],
      "execution_count": 12,
      "outputs": [
        {
          "output_type": "stream",
          "name": "stdout",
          "text": [
            "****************************************\n",
            "Enter the total number of product\n",
            "****************************************\n",
            "2\n",
            "id: 1012\n",
            "Quantity: 5\n",
            "{'item': 'BoiledRice', 'quantity': 25, 'Cost': 55, 'In store': 55}\n",
            "id: 1005\n",
            "Quantity: 8\n",
            "{'item': 'MilkShake', 'quantity': -4, 'Cost': 95, 'In store': 95}\n",
            "Total billing amount=  1035 \n",
            "*******************************************\n"
          ]
        }
      ]
    }
  ]
}
